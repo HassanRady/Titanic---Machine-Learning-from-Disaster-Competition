{
 "cells": [
  {
   "cell_type": "code",
   "execution_count": 1,
   "metadata": {},
   "outputs": [],
   "source": [
    "import numpy as np\n",
    "import pandas as pd\n",
    "from scipy import stats\n",
    "import re\n",
    "import os\n",
    "\n",
    "import seaborn as sns\n",
    "import matplotlib.pyplot as plt\n",
    "import plotly.express as px\n",
    "import plotly.figure_factory as ff\n",
    "\n",
    "from sklearn.preprocessing import OrdinalEncoder, MinMaxScaler, StandardScaler"
   ]
  },
  {
   "cell_type": "code",
   "execution_count": 2,
   "metadata": {},
   "outputs": [],
   "source": [
    "plt.style.use('ggplot')\n",
    "\n",
    "SEED = 42\n",
    "np.random.seed(SEED)\n",
    "\n",
    "TARGET = \"Survived\"\n",
    "TRAIN_SET = \"train.csv\"\n",
    "TEST_SET = 'test.csv'"
   ]
  },
  {
   "cell_type": "code",
   "execution_count": 3,
   "metadata": {},
   "outputs": [
    {
     "data": {
      "text/html": [
       "<div>\n",
       "<style scoped>\n",
       "    .dataframe tbody tr th:only-of-type {\n",
       "        vertical-align: middle;\n",
       "    }\n",
       "\n",
       "    .dataframe tbody tr th {\n",
       "        vertical-align: top;\n",
       "    }\n",
       "\n",
       "    .dataframe thead th {\n",
       "        text-align: right;\n",
       "    }\n",
       "</style>\n",
       "<table border=\"1\" class=\"dataframe\">\n",
       "  <thead>\n",
       "    <tr style=\"text-align: right;\">\n",
       "      <th></th>\n",
       "      <th>PassengerId</th>\n",
       "      <th>Survived</th>\n",
       "      <th>Pclass</th>\n",
       "      <th>Name</th>\n",
       "      <th>Sex</th>\n",
       "      <th>Age</th>\n",
       "      <th>SibSp</th>\n",
       "      <th>Parch</th>\n",
       "      <th>Ticket</th>\n",
       "      <th>Fare</th>\n",
       "      <th>Cabin</th>\n",
       "      <th>Embarked</th>\n",
       "    </tr>\n",
       "  </thead>\n",
       "  <tbody>\n",
       "    <tr>\n",
       "      <th>0</th>\n",
       "      <td>1</td>\n",
       "      <td>0</td>\n",
       "      <td>3</td>\n",
       "      <td>Braund, Mr. Owen Harris</td>\n",
       "      <td>male</td>\n",
       "      <td>22.0</td>\n",
       "      <td>1</td>\n",
       "      <td>0</td>\n",
       "      <td>A/5 21171</td>\n",
       "      <td>7.2500</td>\n",
       "      <td>NaN</td>\n",
       "      <td>S</td>\n",
       "    </tr>\n",
       "    <tr>\n",
       "      <th>1</th>\n",
       "      <td>2</td>\n",
       "      <td>1</td>\n",
       "      <td>1</td>\n",
       "      <td>Cumings, Mrs. John Bradley (Florence Briggs Th...</td>\n",
       "      <td>female</td>\n",
       "      <td>38.0</td>\n",
       "      <td>1</td>\n",
       "      <td>0</td>\n",
       "      <td>PC 17599</td>\n",
       "      <td>71.2833</td>\n",
       "      <td>C85</td>\n",
       "      <td>C</td>\n",
       "    </tr>\n",
       "    <tr>\n",
       "      <th>2</th>\n",
       "      <td>3</td>\n",
       "      <td>1</td>\n",
       "      <td>3</td>\n",
       "      <td>Heikkinen, Miss. Laina</td>\n",
       "      <td>female</td>\n",
       "      <td>26.0</td>\n",
       "      <td>0</td>\n",
       "      <td>0</td>\n",
       "      <td>STON/O2. 3101282</td>\n",
       "      <td>7.9250</td>\n",
       "      <td>NaN</td>\n",
       "      <td>S</td>\n",
       "    </tr>\n",
       "    <tr>\n",
       "      <th>3</th>\n",
       "      <td>4</td>\n",
       "      <td>1</td>\n",
       "      <td>1</td>\n",
       "      <td>Futrelle, Mrs. Jacques Heath (Lily May Peel)</td>\n",
       "      <td>female</td>\n",
       "      <td>35.0</td>\n",
       "      <td>1</td>\n",
       "      <td>0</td>\n",
       "      <td>113803</td>\n",
       "      <td>53.1000</td>\n",
       "      <td>C123</td>\n",
       "      <td>S</td>\n",
       "    </tr>\n",
       "    <tr>\n",
       "      <th>4</th>\n",
       "      <td>5</td>\n",
       "      <td>0</td>\n",
       "      <td>3</td>\n",
       "      <td>Allen, Mr. William Henry</td>\n",
       "      <td>male</td>\n",
       "      <td>35.0</td>\n",
       "      <td>0</td>\n",
       "      <td>0</td>\n",
       "      <td>373450</td>\n",
       "      <td>8.0500</td>\n",
       "      <td>NaN</td>\n",
       "      <td>S</td>\n",
       "    </tr>\n",
       "  </tbody>\n",
       "</table>\n",
       "</div>"
      ],
      "text/plain": [
       "   PassengerId  Survived  Pclass  \\\n",
       "0            1         0       3   \n",
       "1            2         1       1   \n",
       "2            3         1       3   \n",
       "3            4         1       1   \n",
       "4            5         0       3   \n",
       "\n",
       "                                                Name     Sex   Age  SibSp  \\\n",
       "0                            Braund, Mr. Owen Harris    male  22.0      1   \n",
       "1  Cumings, Mrs. John Bradley (Florence Briggs Th...  female  38.0      1   \n",
       "2                             Heikkinen, Miss. Laina  female  26.0      0   \n",
       "3       Futrelle, Mrs. Jacques Heath (Lily May Peel)  female  35.0      1   \n",
       "4                           Allen, Mr. William Henry    male  35.0      0   \n",
       "\n",
       "   Parch            Ticket     Fare Cabin Embarked  \n",
       "0      0         A/5 21171   7.2500   NaN        S  \n",
       "1      0          PC 17599  71.2833   C85        C  \n",
       "2      0  STON/O2. 3101282   7.9250   NaN        S  \n",
       "3      0            113803  53.1000  C123        S  \n",
       "4      0            373450   8.0500   NaN        S  "
      ]
     },
     "execution_count": 3,
     "metadata": {},
     "output_type": "execute_result"
    }
   ],
   "source": [
    "df_train = pd.read_csv(TRAIN_SET)\n",
    "df_test = pd.read_csv(TEST_SET)\n",
    "df_train.head()"
   ]
  },
  {
   "cell_type": "markdown",
   "metadata": {},
   "source": [
    "# EDA"
   ]
  },
  {
   "cell_type": "markdown",
   "metadata": {},
   "source": [
    "## First Intuition"
   ]
  },
  {
   "cell_type": "code",
   "execution_count": 4,
   "metadata": {},
   "outputs": [
    {
     "name": "stdout",
     "output_type": "stream",
     "text": [
      "<class 'pandas.core.frame.DataFrame'>\n",
      "RangeIndex: 891 entries, 0 to 890\n",
      "Data columns (total 12 columns):\n",
      " #   Column       Non-Null Count  Dtype  \n",
      "---  ------       --------------  -----  \n",
      " 0   PassengerId  891 non-null    int64  \n",
      " 1   Survived     891 non-null    int64  \n",
      " 2   Pclass       891 non-null    int64  \n",
      " 3   Name         891 non-null    object \n",
      " 4   Sex          891 non-null    object \n",
      " 5   Age          714 non-null    float64\n",
      " 6   SibSp        891 non-null    int64  \n",
      " 7   Parch        891 non-null    int64  \n",
      " 8   Ticket       891 non-null    object \n",
      " 9   Fare         891 non-null    float64\n",
      " 10  Cabin        204 non-null    object \n",
      " 11  Embarked     889 non-null    object \n",
      "dtypes: float64(2), int64(5), object(5)\n",
      "memory usage: 83.7+ KB\n"
     ]
    }
   ],
   "source": [
    "df_train.info()"
   ]
  },
  {
   "cell_type": "code",
   "execution_count": 5,
   "metadata": {},
   "outputs": [
    {
     "data": {
      "text/html": [
       "<div>\n",
       "<style scoped>\n",
       "    .dataframe tbody tr th:only-of-type {\n",
       "        vertical-align: middle;\n",
       "    }\n",
       "\n",
       "    .dataframe tbody tr th {\n",
       "        vertical-align: top;\n",
       "    }\n",
       "\n",
       "    .dataframe thead th {\n",
       "        text-align: right;\n",
       "    }\n",
       "</style>\n",
       "<table border=\"1\" class=\"dataframe\">\n",
       "  <thead>\n",
       "    <tr style=\"text-align: right;\">\n",
       "      <th></th>\n",
       "      <th>PassengerId</th>\n",
       "      <th>Survived</th>\n",
       "      <th>Pclass</th>\n",
       "      <th>Age</th>\n",
       "      <th>SibSp</th>\n",
       "      <th>Parch</th>\n",
       "      <th>Fare</th>\n",
       "    </tr>\n",
       "  </thead>\n",
       "  <tbody>\n",
       "    <tr>\n",
       "      <th>count</th>\n",
       "      <td>891.000000</td>\n",
       "      <td>891.000000</td>\n",
       "      <td>891.000000</td>\n",
       "      <td>714.000000</td>\n",
       "      <td>891.000000</td>\n",
       "      <td>891.000000</td>\n",
       "      <td>891.000000</td>\n",
       "    </tr>\n",
       "    <tr>\n",
       "      <th>mean</th>\n",
       "      <td>446.000000</td>\n",
       "      <td>0.383838</td>\n",
       "      <td>2.308642</td>\n",
       "      <td>29.699118</td>\n",
       "      <td>0.523008</td>\n",
       "      <td>0.381594</td>\n",
       "      <td>32.204208</td>\n",
       "    </tr>\n",
       "    <tr>\n",
       "      <th>std</th>\n",
       "      <td>257.353842</td>\n",
       "      <td>0.486592</td>\n",
       "      <td>0.836071</td>\n",
       "      <td>14.526497</td>\n",
       "      <td>1.102743</td>\n",
       "      <td>0.806057</td>\n",
       "      <td>49.693429</td>\n",
       "    </tr>\n",
       "    <tr>\n",
       "      <th>min</th>\n",
       "      <td>1.000000</td>\n",
       "      <td>0.000000</td>\n",
       "      <td>1.000000</td>\n",
       "      <td>0.420000</td>\n",
       "      <td>0.000000</td>\n",
       "      <td>0.000000</td>\n",
       "      <td>0.000000</td>\n",
       "    </tr>\n",
       "    <tr>\n",
       "      <th>25%</th>\n",
       "      <td>223.500000</td>\n",
       "      <td>0.000000</td>\n",
       "      <td>2.000000</td>\n",
       "      <td>20.125000</td>\n",
       "      <td>0.000000</td>\n",
       "      <td>0.000000</td>\n",
       "      <td>7.910400</td>\n",
       "    </tr>\n",
       "    <tr>\n",
       "      <th>50%</th>\n",
       "      <td>446.000000</td>\n",
       "      <td>0.000000</td>\n",
       "      <td>3.000000</td>\n",
       "      <td>28.000000</td>\n",
       "      <td>0.000000</td>\n",
       "      <td>0.000000</td>\n",
       "      <td>14.454200</td>\n",
       "    </tr>\n",
       "    <tr>\n",
       "      <th>75%</th>\n",
       "      <td>668.500000</td>\n",
       "      <td>1.000000</td>\n",
       "      <td>3.000000</td>\n",
       "      <td>38.000000</td>\n",
       "      <td>1.000000</td>\n",
       "      <td>0.000000</td>\n",
       "      <td>31.000000</td>\n",
       "    </tr>\n",
       "    <tr>\n",
       "      <th>max</th>\n",
       "      <td>891.000000</td>\n",
       "      <td>1.000000</td>\n",
       "      <td>3.000000</td>\n",
       "      <td>80.000000</td>\n",
       "      <td>8.000000</td>\n",
       "      <td>6.000000</td>\n",
       "      <td>512.329200</td>\n",
       "    </tr>\n",
       "  </tbody>\n",
       "</table>\n",
       "</div>"
      ],
      "text/plain": [
       "       PassengerId    Survived      Pclass         Age       SibSp  \\\n",
       "count   891.000000  891.000000  891.000000  714.000000  891.000000   \n",
       "mean    446.000000    0.383838    2.308642   29.699118    0.523008   \n",
       "std     257.353842    0.486592    0.836071   14.526497    1.102743   \n",
       "min       1.000000    0.000000    1.000000    0.420000    0.000000   \n",
       "25%     223.500000    0.000000    2.000000   20.125000    0.000000   \n",
       "50%     446.000000    0.000000    3.000000   28.000000    0.000000   \n",
       "75%     668.500000    1.000000    3.000000   38.000000    1.000000   \n",
       "max     891.000000    1.000000    3.000000   80.000000    8.000000   \n",
       "\n",
       "            Parch        Fare  \n",
       "count  891.000000  891.000000  \n",
       "mean     0.381594   32.204208  \n",
       "std      0.806057   49.693429  \n",
       "min      0.000000    0.000000  \n",
       "25%      0.000000    7.910400  \n",
       "50%      0.000000   14.454200  \n",
       "75%      0.000000   31.000000  \n",
       "max      6.000000  512.329200  "
      ]
     },
     "execution_count": 5,
     "metadata": {},
     "output_type": "execute_result"
    }
   ],
   "source": [
    "df_train.describe()"
   ]
  },
  {
   "cell_type": "code",
   "execution_count": 6,
   "metadata": {},
   "outputs": [
    {
     "name": "stdout",
     "output_type": "stream",
     "text": [
      "Number of numerical variables:  6\n",
      "PassengerId - Pclass - Age - SibSp - Parch - Fare - "
     ]
    }
   ],
   "source": [
    "numerical_variables = [var for var in df_train.columns if df_train[var].dtypes != 'O']\n",
    "numerical_variables.pop(numerical_variables.index(TARGET))\n",
    "numerical_variables_num = len(numerical_variables)\n",
    "print('Number of numerical variables: ', numerical_variables_num)\n",
    "for var in numerical_variables:\n",
    "    print(var, end=' - ')"
   ]
  },
  {
   "cell_type": "code",
   "execution_count": 7,
   "metadata": {},
   "outputs": [
    {
     "name": "stdout",
     "output_type": "stream",
     "text": [
      "Number of discrete variables:  4\n",
      "Pclass - Age - SibSp - Parch - "
     ]
    }
   ],
   "source": [
    "discrete_vars = [var for var in numerical_variables if len(df_train[var].unique()) < 100]\n",
    "discrete_vars_num = len(discrete_vars)\n",
    "print('Number of discrete variables: ', discrete_vars_num)\n",
    "for var in discrete_vars:\n",
    "    print(var, end=' - ')"
   ]
  },
  {
   "cell_type": "code",
   "execution_count": 8,
   "metadata": {},
   "outputs": [
    {
     "name": "stdout",
     "output_type": "stream",
     "text": [
      "Number of continuous variables:  1\n",
      "Fare - "
     ]
    }
   ],
   "source": [
    "continuous_vars = [var for var in numerical_variables if var not in discrete_vars+['PassengerId']]\n",
    "print('Number of continuous variables: ', len(continuous_vars))\n",
    "for var in continuous_vars:\n",
    "    print(var, end=' - ')"
   ]
  },
  {
   "cell_type": "code",
   "execution_count": 9,
   "metadata": {},
   "outputs": [
    {
     "name": "stdout",
     "output_type": "stream",
     "text": [
      "Number of categorical variables:  5\n",
      "Name - Sex - Ticket - Cabin - Embarked - "
     ]
    }
   ],
   "source": [
    "categorical_variables = [var for var in df_train.columns if df_train[var].dtypes == 'O']\n",
    "categorical_variables_num = len(categorical_variables)\n",
    "print('Number of categorical variables: ', categorical_variables_num)\n",
    "for var in categorical_variables:\n",
    "    print(var, end=' - ')"
   ]
  },
  {
   "cell_type": "code",
   "execution_count": 10,
   "metadata": {},
   "outputs": [
    {
     "name": "stdout",
     "output_type": "stream",
     "text": [
      "Number of complete duplicates:  0\n"
     ]
    }
   ],
   "source": [
    "print(\"Number of complete duplicates: \", df_train.duplicated().sum())"
   ]
  },
  {
   "cell_type": "code",
   "execution_count": 11,
   "metadata": {},
   "outputs": [
    {
     "name": "stdout",
     "output_type": "stream",
     "text": [
      "Number of nulls in features: 866\n"
     ]
    }
   ],
   "source": [
    "print(f\"Number of nulls in features: {df_train.isnull().sum().sum()}\")"
   ]
  },
  {
   "cell_type": "code",
   "execution_count": 12,
   "metadata": {},
   "outputs": [
    {
     "name": "stdout",
     "output_type": "stream",
     "text": [
      "Number of null features: 1\n",
      "Number of nulls in numerical features: 177\n",
      "Age    \t177nulls \t0.199%\n",
      "Fare    \t0nulls \t0.000%\n",
      "Parch    \t0nulls \t0.000%\n",
      "SibSp    \t0nulls \t0.000%\n",
      "Pclass    \t0nulls \t0.000%\n",
      "PassengerId    \t0nulls \t0.000%\n"
     ]
    }
   ],
   "source": [
    "null_variables_in_numerics = [var for var in numerical_variables if df_train[var].isnull().sum() > 0]\n",
    "print(f\"Number of null features: {len(null_variables_in_numerics)}\")\n",
    "print(f\"Number of nulls in numerical features: {df_train[null_variables_in_numerics].isnull().sum().sum()}\")\n",
    "num_nulls = df_train[numerical_variables].isnull().sum().sort_values(ascending=False)\n",
    "for row in num_nulls.iteritems():\n",
    "    print(f\"{row[0]}    \\t{row[1] }nulls \\t{row[1]/df_train.shape[0]:.3f}%\")"
   ]
  },
  {
   "cell_type": "code",
   "execution_count": 13,
   "metadata": {},
   "outputs": [
    {
     "name": "stdout",
     "output_type": "stream",
     "text": [
      "Number of null features: 2\n",
      "Number of nulls in categorical features: 689\n",
      "Cabin   \t687 nulls \t0.771%\n",
      "Embarked   \t2 nulls \t0.002%\n",
      "Ticket   \t0 nulls \t0.000%\n",
      "Sex   \t0 nulls \t0.000%\n",
      "Name   \t0 nulls \t0.000%\n"
     ]
    }
   ],
   "source": [
    "null_variables_in_categoric = [var for var in categorical_variables if df_train[var].isnull().sum() > 0]\n",
    "print(f\"Number of null features: {len(null_variables_in_categoric)}\")\n",
    "print(f\"Number of nulls in categorical features: {df_train[null_variables_in_categoric].isnull().sum().sum()}\")\n",
    "num_nulls = df_train[categorical_variables].isnull().sum().sort_values(ascending=False)\n",
    "for row in num_nulls.iteritems():\n",
    "    print(f\"{row[0]}   \\t{row[1]} nulls \\t{row[1]/df_train.shape[0]:.3f}%\")"
   ]
  },
  {
   "cell_type": "markdown",
   "metadata": {},
   "source": [
    "### First Intuition Summary\n",
    "* 891 records. \n",
    "* 12 feature + target.\n",
    "* 7 numerical feature include (id + target).\n",
    "* 5 categorical features.\n",
    "* 0 complete duplicates.\n",
    "* 866 null value in all features.\n",
    "* 177 nulls in numerical features.\n",
    "* 689 nulls in categorical features."
   ]
  },
  {
   "cell_type": "markdown",
   "metadata": {},
   "source": [
    "## Target vs All"
   ]
  },
  {
   "cell_type": "markdown",
   "metadata": {},
   "source": [
    "First we extract the meaningfull information from the 'Name'."
   ]
  },
  {
   "cell_type": "code",
   "execution_count": 14,
   "metadata": {},
   "outputs": [],
   "source": [
    "def get_title_from_name(passenger_name):\n",
    "    line = passenger_name\n",
    "    if re.search('Mrs', line):\n",
    "        return 'Mrs'\n",
    "    elif re.search('Mr', line):\n",
    "        return 'Mr'\n",
    "    elif re.search('Miss', line):\n",
    "        return 'Miss'\n",
    "    elif re.search('Master', line):\n",
    "        return 'Master'\n",
    "    else:\n",
    "        return 'Other'\n",
    "    \n",
    "df_train['Title'] = df_train['Name'].apply(get_title_from_name)\n",
    "df_test['Title'] = df_test['Name'].apply(get_title_from_name)\n",
    "\n",
    "categorical_variables.pop(categorical_variables.index('Name'));\n",
    "categorical_variables += ['Title']"
   ]
  },
  {
   "cell_type": "code",
   "execution_count": 15,
   "metadata": {},
   "outputs": [
    {
     "data": {
      "text/plain": [
       "count    891.000000\n",
       "mean       0.383838\n",
       "std        0.486592\n",
       "min        0.000000\n",
       "25%        0.000000\n",
       "50%        0.000000\n",
       "75%        1.000000\n",
       "max        1.000000\n",
       "Name: Survived, dtype: float64"
      ]
     },
     "execution_count": 15,
     "metadata": {},
     "output_type": "execute_result"
    }
   ],
   "source": [
    "df_train[TARGET].describe()"
   ]
  },
  {
   "cell_type": "code",
   "execution_count": 16,
   "metadata": {},
   "outputs": [
    {
     "data": {
      "image/png": "[encoded data removed]",
      "text/plain": [
       "<Figure size 432x288 with 1 Axes>"
      ]
     },
     "metadata": {},
     "output_type": "display_data"
    }
   ],
   "source": [
    "df_train[TARGET].hist();"
   ]
  },
  {
   "cell_type": "code",
   "execution_count": 17,
   "metadata": {},
   "outputs": [
    {
     "data": {
      "image/png": "[encoded data removed]",
      "text/plain": [
       "<Figure size 432x288 with 1 Axes>"
      ]
     },
     "metadata": {},
     "output_type": "display_data"
    }
   ],
   "source": [
    "for var in continuous_vars:\n",
    "    sns.barplot(data=df_train, y=var, x=TARGET)\n",
    "    plt.show();"
   ]
  },
  {
   "cell_type": "markdown",
   "metadata": {},
   "source": [
    "Who paid more has more chance to survive than he who doesn't. "
   ]
  },
  {
   "cell_type": "code",
   "execution_count": 18,
   "metadata": {},
   "outputs": [
    {
     "data": {
      "image/png": "[encoded data removed]",
      "text/plain": [
       "<Figure size 432x288 with 1 Axes>"
      ]
     },
     "metadata": {},
     "output_type": "display_data"
    }
   ],
   "source": [
    "plt.hist(df_train['Age'])\n",
    "plt.xlabel('Age')\n",
    "plt.ylabel('Count')\n",
    "plt.title('Age Distribution');"
   ]
  },
  {
   "cell_type": "code",
   "execution_count": 19,
   "metadata": {},
   "outputs": [
    {
     "data": {
      "image/png": "[encoded data removed]",
      "text/plain": [
       "<Figure size 720x360 with 2 Axes>"
      ]
     },
     "metadata": {},
     "output_type": "display_data"
    }
   ],
   "source": [
    "g = sns.FacetGrid(df_train, col=TARGET,height=5, aspect=1)\n",
    "g.map(plt.hist, 'Age', bins=5);"
   ]
  },
  {
   "cell_type": "code",
   "execution_count": 20,
   "metadata": {},
   "outputs": [
    {
     "data": {
      "text/html": [
       "<div>\n",
       "<style scoped>\n",
       "    .dataframe tbody tr th:only-of-type {\n",
       "        vertical-align: middle;\n",
       "    }\n",
       "\n",
       "    .dataframe tbody tr th {\n",
       "        vertical-align: top;\n",
       "    }\n",
       "\n",
       "    .dataframe thead th {\n",
       "        text-align: right;\n",
       "    }\n",
       "</style>\n",
       "<table border=\"1\" class=\"dataframe\">\n",
       "  <thead>\n",
       "    <tr style=\"text-align: right;\">\n",
       "      <th></th>\n",
       "      <th>Count</th>\n",
       "    </tr>\n",
       "    <tr>\n",
       "      <th>AgeBand</th>\n",
       "      <th></th>\n",
       "    </tr>\n",
       "  </thead>\n",
       "  <tbody>\n",
       "    <tr>\n",
       "      <th>(16.336, 32.252]</th>\n",
       "      <td>346</td>\n",
       "    </tr>\n",
       "    <tr>\n",
       "      <th>(32.252, 48.168]</th>\n",
       "      <td>188</td>\n",
       "    </tr>\n",
       "    <tr>\n",
       "      <th>(0.34, 16.336]</th>\n",
       "      <td>100</td>\n",
       "    </tr>\n",
       "    <tr>\n",
       "      <th>(48.168, 64.084]</th>\n",
       "      <td>69</td>\n",
       "    </tr>\n",
       "    <tr>\n",
       "      <th>(64.084, 80.0]</th>\n",
       "      <td>11</td>\n",
       "    </tr>\n",
       "  </tbody>\n",
       "</table>\n",
       "</div>"
      ],
      "text/plain": [
       "                  Count\n",
       "AgeBand                \n",
       "(16.336, 32.252]    346\n",
       "(32.252, 48.168]    188\n",
       "(0.34, 16.336]      100\n",
       "(48.168, 64.084]     69\n",
       "(64.084, 80.0]       11"
      ]
     },
     "execution_count": 20,
     "metadata": {},
     "output_type": "execute_result"
    }
   ],
   "source": [
    "df_train_copy = df_train.copy()\n",
    "df_train_copy['AgeBand'] = pd.cut(df_train['Age'], 5)\n",
    "tmp = df_train_copy.groupby('AgeBand')['AgeBand'].count().sort_values(ascending=False)\n",
    "pd.DataFrame(columns=['Count'], data=tmp.values, index=tmp.keys())"
   ]
  },
  {
   "cell_type": "code",
   "execution_count": 21,
   "metadata": {},
   "outputs": [
    {
     "data": {
      "text/html": [
       "<div>\n",
       "<style scoped>\n",
       "    .dataframe tbody tr th:only-of-type {\n",
       "        vertical-align: middle;\n",
       "    }\n",
       "\n",
       "    .dataframe tbody tr th {\n",
       "        vertical-align: top;\n",
       "    }\n",
       "\n",
       "    .dataframe thead th {\n",
       "        text-align: right;\n",
       "    }\n",
       "</style>\n",
       "<table border=\"1\" class=\"dataframe\">\n",
       "  <thead>\n",
       "    <tr style=\"text-align: right;\">\n",
       "      <th></th>\n",
       "      <th>Survived</th>\n",
       "    </tr>\n",
       "    <tr>\n",
       "      <th>AgeBand</th>\n",
       "      <th></th>\n",
       "    </tr>\n",
       "  </thead>\n",
       "  <tbody>\n",
       "    <tr>\n",
       "      <th>(0.34, 16.336]</th>\n",
       "      <td>0.550000</td>\n",
       "    </tr>\n",
       "    <tr>\n",
       "      <th>(48.168, 64.084]</th>\n",
       "      <td>0.434783</td>\n",
       "    </tr>\n",
       "    <tr>\n",
       "      <th>(32.252, 48.168]</th>\n",
       "      <td>0.404255</td>\n",
       "    </tr>\n",
       "    <tr>\n",
       "      <th>(16.336, 32.252]</th>\n",
       "      <td>0.369942</td>\n",
       "    </tr>\n",
       "    <tr>\n",
       "      <th>(64.084, 80.0]</th>\n",
       "      <td>0.090909</td>\n",
       "    </tr>\n",
       "  </tbody>\n",
       "</table>\n",
       "</div>"
      ],
      "text/plain": [
       "                  Survived\n",
       "AgeBand                   \n",
       "(0.34, 16.336]    0.550000\n",
       "(48.168, 64.084]  0.434783\n",
       "(32.252, 48.168]  0.404255\n",
       "(16.336, 32.252]  0.369942\n",
       "(64.084, 80.0]    0.090909"
      ]
     },
     "execution_count": 21,
     "metadata": {},
     "output_type": "execute_result"
    }
   ],
   "source": [
    "df_train_copy[['AgeBand', TARGET]].groupby('AgeBand').mean().sort_values(by=TARGET, ascending=False)"
   ]
  },
  {
   "cell_type": "code",
   "execution_count": 22,
   "metadata": {},
   "outputs": [
    {
     "data": {
      "image/png": "[encoded data removed]",
      "text/plain": [
       "<Figure size 432x288 with 1 Axes>"
      ]
     },
     "metadata": {},
     "output_type": "display_data"
    },
    {
     "data": {
      "image/png": "[encoded data removed]",
      "text/plain": [
       "<Figure size 432x288 with 1 Axes>"
      ]
     },
     "metadata": {},
     "output_type": "display_data"
    },
    {
     "data": {
      "image/png": "[encoded data removed]",
      "text/plain": [
       "<Figure size 432x288 with 1 Axes>"
      ]
     },
     "metadata": {},
     "output_type": "display_data"
    }
   ],
   "source": [
    "for i, var in enumerate(discrete_vars):\n",
    "    if var == 'Age':\n",
    "        continue\n",
    "        \n",
    "    df = df_train.groupby(var)[TARGET].mean().sort_values(ascending=False)\n",
    "    df.plot.bar()\n",
    "    plt.ylabel('Survival Rate')\n",
    "    plt.title(f'{var} and surviving')\n",
    "    plt.show();"
   ]
  },
  {
   "cell_type": "code",
   "execution_count": 23,
   "metadata": {},
   "outputs": [
    {
     "data": {
      "image/png": "[encoded data removed]",
      "text/plain": [
       "<Figure size 432x288 with 1 Axes>"
      ]
     },
     "metadata": {},
     "output_type": "display_data"
    },
    {
     "data": {
      "image/png": "[encoded data removed]",
      "text/plain": [
       "<Figure size 432x288 with 1 Axes>"
      ]
     },
     "metadata": {},
     "output_type": "display_data"
    },
    {
     "data": {
      "image/png": "[encoded data removed]",
      "text/plain": [
       "<Figure size 432x288 with 1 Axes>"
      ]
     },
     "metadata": {},
     "output_type": "display_data"
    }
   ],
   "source": [
    "for i, var in enumerate(categorical_variables):\n",
    "    if var in ['Name', 'Ticket', 'Cabin']:\n",
    "        continue\n",
    "        \n",
    "    df = df_train.groupby(var)[TARGET].mean().sort_values(ascending=False)\n",
    "    df.plot.bar()\n",
    "    plt.ylabel('Survival Rate')\n",
    "    plt.title(f'{var} and surviving')\n",
    "    plt.show();"
   ]
  },
  {
   "cell_type": "code",
   "execution_count": 24,
   "metadata": {},
   "outputs": [
    {
     "data": {
      "image/png": "[encoded data removed]",
      "text/plain": [
       "<Figure size 432x288 with 1 Axes>"
      ]
     },
     "metadata": {},
     "output_type": "display_data"
    }
   ],
   "source": [
    "df_survived = df_train[df_train[TARGET] == 1]\n",
    "df_survived.groupby('Sex')['Sex'].count().sort_values(ascending=False).plot.bar()\n",
    "plt.ylabel('Count')\n",
    "plt.title('Survived');"
   ]
  },
  {
   "cell_type": "code",
   "execution_count": 25,
   "metadata": {},
   "outputs": [
    {
     "data": {
      "image/png": "[encoded data removed]",
      "text/plain": [
       "<Figure size 432x288 with 1 Axes>"
      ]
     },
     "metadata": {},
     "output_type": "display_data"
    }
   ],
   "source": [
    "df_unsurvived = df_train[df_train[TARGET] == 0]\n",
    "df_unsurvived.groupby('Sex')['Sex'].count().plot.bar();\n",
    "plt.ylabel('Count')\n",
    "plt.title('unSurvived');"
   ]
  },
  {
   "cell_type": "code",
   "execution_count": 26,
   "metadata": {},
   "outputs": [
    {
     "data": {
      "image/png": "[encoded data removed]",
      "text/plain": [
       "<Figure size 502.5x432 with 1 Axes>"
      ]
     },
     "metadata": {},
     "output_type": "display_data"
    }
   ],
   "source": [
    "g = sns.catplot(data=df_train, x=\"Pclass\", y=TARGET, hue=\"Sex\",\n",
    "                   height=6, kind=\"bar\", palette=['blue', 'red'])\n",
    "g.despine(left=True)\n",
    "g = g.set_ylabels(\"Survival Rate\")"
   ]
  },
  {
   "cell_type": "code",
   "execution_count": 27,
   "metadata": {},
   "outputs": [],
   "source": [
    "def get_ticket_prefix(data):\n",
    "    Ticket = []\n",
    "    for i in list(data.Ticket):\n",
    "        if not i.isdigit() :\n",
    "            Ticket.append(i.replace(\".\",\"\").replace(\"/\",\"\").strip().split(' ')[0]) #Take prefix\n",
    "        else:\n",
    "            Ticket.append(\"X\")\n",
    "    return Ticket\n",
    "        \n",
    "df_train['Ticket'] = get_ticket_prefix(df_train)\n",
    "df_test['Ticket'] = get_ticket_prefix(df_test)"
   ]
  },
  {
   "cell_type": "code",
   "execution_count": 28,
   "metadata": {},
   "outputs": [
    {
     "data": {
      "image/png": "[encoded data removed]",
      "text/plain": [
       "<Figure size 1080x360 with 1 Axes>"
      ]
     },
     "metadata": {},
     "output_type": "display_data"
    }
   ],
   "source": [
    "plt.figure(figsize=(15, 5))\n",
    "df_train.groupby('Ticket')[TARGET].mean().sort_values(ascending=False).plot.bar()\n",
    "plt.ylabel('Survival Rate')\n",
    "plt.title('Ticket and Surviving');"
   ]
  },
  {
   "cell_type": "markdown",
   "metadata": {},
   "source": [
    "## Summary\n",
    "\n",
    "* Rich and upper class people survived more than medium or lower class people.\n",
    "* Women survived more than men.\n",
    "* Children and adult people survived more than the rest."
   ]
  },
  {
   "cell_type": "markdown",
   "metadata": {},
   "source": [
    "## Categoricals Association"
   ]
  },
  {
   "cell_type": "code",
   "execution_count": 29,
   "metadata": {},
   "outputs": [],
   "source": [
    "cols = categorical_variables + ['Pclass'] + [TARGET]\n",
    "n = len(cols)"
   ]
  },
  {
   "cell_type": "markdown",
   "metadata": {},
   "source": [
    "**chi square test**"
   ]
  },
  {
   "cell_type": "code",
   "execution_count": 30,
   "metadata": {},
   "outputs": [],
   "source": [
    "def get_chi_test(x, y):\n",
    "    confusion_matrix = pd.crosstab(x,y)\n",
    "    chi2 = stats.chi2_contingency(confusion_matrix, correction=True)\n",
    "    return chi2"
   ]
  },
  {
   "cell_type": "code",
   "execution_count": 31,
   "metadata": {},
   "outputs": [
    {
     "data": {
      "image/png": "[encoded data removed]",
      "text/plain": [
       "<Figure size 432x288 with 2 Axes>"
      ]
     },
     "metadata": {},
     "output_type": "display_data"
    }
   ],
   "source": [
    "df_corr = pd.DataFrame(data=np.zeros(shape=(n, n)), columns=cols, index=cols)\n",
    "\n",
    "p_value_index = 1\n",
    "\n",
    "for row in cols:\n",
    "    for col in cols:\n",
    "        df_corr.loc[row, col] = get_chi_test(df_train[row], df_train[col])[p_value_index]\n",
    "\n",
    "alpha = 0.05\n",
    "cmap = sns.cm.rocket_r\n",
    "sns.heatmap(df_corr, vmin=1, vmax=0, annot=True, fmt='.3f')\n",
    "plt.title('p-value');"
   ]
  },
  {
   "cell_type": "markdown",
   "metadata": {},
   "source": [
    "**Cramér\\'s V**"
   ]
  },
  {
   "cell_type": "code",
   "execution_count": 32,
   "metadata": {},
   "outputs": [],
   "source": [
    "# Reference\n",
    "# https://stackoverflow.com/questions/46498455/categorical-features-correlation/46498792#46498792\n",
    "def cramers_v(x, y):\n",
    "    confusion_matrix = pd.crosstab(x,y)\n",
    "    chi2 = stats.chi2_contingency(confusion_matrix)[0]\n",
    "    n = confusion_matrix.sum().sum()\n",
    "    phi2 = chi2/n\n",
    "    r,k = confusion_matrix.shape\n",
    "    phi2corr = max(0, phi2-((k-1)*(r-1))/(n-1))\n",
    "    rcorr = r-((r-1)**2)/(n-1)\n",
    "    kcorr = k-((k-1)**2)/(n-1)\n",
    "    return np.sqrt(phi2corr/min((kcorr-1),(rcorr-1)))"
   ]
  },
  {
   "cell_type": "code",
   "execution_count": 33,
   "metadata": {},
   "outputs": [
    {
     "data": {
      "image/png": "[encoded data removed]",
      "text/plain": [
       "<Figure size 432x288 with 2 Axes>"
      ]
     },
     "metadata": {},
     "output_type": "display_data"
    }
   ],
   "source": [
    "df_corr = pd.DataFrame(data=np.zeros(shape=(n, n)), columns=cols, index=cols)\n",
    "\n",
    "p_value_index = 1\n",
    "\n",
    "for row in cols:\n",
    "    for col in cols:\n",
    "        df_corr.loc[row, col] = cramers_v(df_train[row], df_train[col])\n",
    "\n",
    "alpha = 0.05\n",
    "cmap = sns.cm.rocket_r\n",
    "sns.heatmap(df_corr, vmin=0, vmax=1, annot=True, fmt='.3f')\n",
    "plt.title('Cramér\\'s V');"
   ]
  },
  {
   "cell_type": "markdown",
   "metadata": {},
   "source": [
    "## Summary\n",
    "* Not surprisingly ('Sex', 'Embarked', 'Title', 'Pclass') are correlated with the survival.\n",
    "* **'Ticket'** is correlated with the survival but 'Cabin' (p-value was 0.184) not. Tickets with same prefixes may have a similar class and survival."
   ]
  },
  {
   "cell_type": "markdown",
   "metadata": {},
   "source": [
    "# Feature Engineering"
   ]
  },
  {
   "cell_type": "code",
   "execution_count": 34,
   "metadata": {},
   "outputs": [],
   "source": [
    "from sklearn.preprocessing import OrdinalEncoder, MinMaxScaler, StandardScaler, LabelEncoder"
   ]
  },
  {
   "cell_type": "code",
   "execution_count": 35,
   "metadata": {},
   "outputs": [],
   "source": [
    "df_train = df_train.drop(['Name', 'Cabin', 'PassengerId'], axis=1)\n",
    "\n",
    "test_id = df_test['PassengerId']\n",
    "df_test = df_test.drop(['Name', 'Cabin', 'PassengerId'], axis=1)"
   ]
  },
  {
   "cell_type": "code",
   "execution_count": 36,
   "metadata": {},
   "outputs": [
    {
     "data": {
      "text/plain": [
       "Survived      0\n",
       "Pclass        0\n",
       "Sex           0\n",
       "Age         177\n",
       "SibSp         0\n",
       "Parch         0\n",
       "Ticket        0\n",
       "Fare          0\n",
       "Embarked      2\n",
       "Title         0\n",
       "dtype: int64"
      ]
     },
     "execution_count": 36,
     "metadata": {},
     "output_type": "execute_result"
    }
   ],
   "source": [
    "df_train.isnull().sum()"
   ]
  },
  {
   "cell_type": "code",
   "execution_count": 37,
   "metadata": {},
   "outputs": [
    {
     "data": {
      "text/plain": [
       "Pclass       0\n",
       "Sex          0\n",
       "Age         86\n",
       "SibSp        0\n",
       "Parch        0\n",
       "Ticket       0\n",
       "Fare         1\n",
       "Embarked     0\n",
       "Title        0\n",
       "dtype: int64"
      ]
     },
     "execution_count": 37,
     "metadata": {},
     "output_type": "execute_result"
    }
   ],
   "source": [
    "df_test.isnull().sum()"
   ]
  },
  {
   "cell_type": "code",
   "execution_count": 38,
   "metadata": {},
   "outputs": [],
   "source": [
    "def fill_with_mode(train, test, features):\n",
    "    train = train.copy()\n",
    "    test = test.copy()\n",
    "    \n",
    "    for feature in features:\n",
    "        mode = train[feature].mode()[0]\n",
    "        \n",
    "        train[feature] = train[feature].fillna(mode)\n",
    "        test[feature] = test[feature].fillna(mode)\n",
    "        \n",
    "    return train, test\n",
    "\n",
    "features_to_fill_with_mode = ['Embarked']\n",
    "df_train, df_test = fill_with_mode(df_train, df_test, features_to_fill_with_mode)"
   ]
  },
  {
   "cell_type": "code",
   "execution_count": 39,
   "metadata": {},
   "outputs": [],
   "source": [
    "def fill_with_median(train, test, features):\n",
    "    train = train.copy()\n",
    "    test = test.copy()\n",
    "    \n",
    "    for feature in features:\n",
    "        median = train[feature].dropna().median()\n",
    "        \n",
    "        train[feature] = train[feature].fillna(median)\n",
    "        test[feature] = test[feature].fillna(median)\n",
    "        \n",
    "    return train, test\n",
    "\n",
    "features_to_fill_with_median = ['Age', 'Fare']\n",
    "df_train, df_test = fill_with_median(df_train, df_test, features_to_fill_with_median)"
   ]
  },
  {
   "cell_type": "markdown",
   "metadata": {},
   "source": [
    "### Adding Features"
   ]
  },
  {
   "cell_type": "code",
   "execution_count": 40,
   "metadata": {},
   "outputs": [],
   "source": [
    "data_combine = [df_train, df_test]\n",
    "for dataset in data_combine:\n",
    "    dataset['FamilySize'] = dataset['SibSp'] + dataset['Parch']\n",
    "\n",
    "    \n",
    "df_train = df_train.drop(['Parch', 'SibSp'], axis=1)\n",
    "df_test = df_test.drop(['Parch', 'SibSp'], axis=1)"
   ]
  },
  {
   "cell_type": "code",
   "execution_count": 41,
   "metadata": {},
   "outputs": [],
   "source": [
    "# df_train['Age'] = pd.qcut(df_train['Age'], 4)\n",
    "# df_test['Age'] = pd.qcut(df_test['Age'], 4) \n",
    "\n",
    "# df_train['Fare'] = pd.qcut(df_train['Fare'], 5)\n",
    "# df_test['Fare'] = pd.qcut(df_test['Fare'], 5) "
   ]
  },
  {
   "cell_type": "code",
   "execution_count": 42,
   "metadata": {},
   "outputs": [],
   "source": [
    "def to_ordinal_encoding(train, test, var):\n",
    "    train = train.copy()\n",
    "    test = test.copy()\n",
    "\n",
    "    orderd_labels = train.groupby(var)[TARGET].mean().sort_values().index.tolist()\n",
    "    ordinal_encoder = OrdinalEncoder(categories=[orderd_labels], handle_unknown='ignore')\n",
    "    \n",
    "    train[var] = ordinal_encoder.fit_transform(train[var].values.reshape(-1, 1))\n",
    "    test[var] = ordinal_encoder.transform(test[var].values.reshape(-1, 1))\n",
    "    \n",
    "    return train, test\n",
    "\n",
    "df_train['Pclass'] = df_train['Pclass'].astype(str)\n",
    "df_test['Pclass'] = df_test['Pclass'].astype(str)\n",
    "\n",
    "categ_feats = [var for var in df_train.columns if df_train[var].dtypes == 'O' and var != TARGET]\n",
    "for var in categ_feats:\n",
    "    df_train, df_test = to_ordinal_encoding(df_train, df_test, var)"
   ]
  },
  {
   "cell_type": "code",
   "execution_count": 43,
   "metadata": {},
   "outputs": [],
   "source": [
    "# df_train.drop([ 'Ticket', 'Embarked', 'Sex', 'FamilySize'], axis=1, inplace=True)\n",
    "# df_test.drop([ 'Ticket', 'Embarked', 'Sex', 'FamilySize'], axis=1, inplace=True)\n",
    "\n",
    "# df_train.drop([ 'Embarked' ], axis=1, inplace=True)\n",
    "# df_test.drop([ 'Embarked' ], axis=1, inplace=True)"
   ]
  },
  {
   "cell_type": "code",
   "execution_count": 44,
   "metadata": {},
   "outputs": [
    {
     "data": {
      "text/html": [
       "<div>\n",
       "<style scoped>\n",
       "    .dataframe tbody tr th:only-of-type {\n",
       "        vertical-align: middle;\n",
       "    }\n",
       "\n",
       "    .dataframe tbody tr th {\n",
       "        vertical-align: top;\n",
       "    }\n",
       "\n",
       "    .dataframe thead th {\n",
       "        text-align: right;\n",
       "    }\n",
       "</style>\n",
       "<table border=\"1\" class=\"dataframe\">\n",
       "  <thead>\n",
       "    <tr style=\"text-align: right;\">\n",
       "      <th></th>\n",
       "      <th>Survived</th>\n",
       "      <th>Pclass</th>\n",
       "      <th>Sex</th>\n",
       "      <th>Age</th>\n",
       "      <th>Ticket</th>\n",
       "      <th>Fare</th>\n",
       "      <th>Embarked</th>\n",
       "      <th>Title</th>\n",
       "      <th>FamilySize</th>\n",
       "    </tr>\n",
       "  </thead>\n",
       "  <tbody>\n",
       "    <tr>\n",
       "      <th>0</th>\n",
       "      <td>0</td>\n",
       "      <td>0.0</td>\n",
       "      <td>0.0</td>\n",
       "      <td>22.0</td>\n",
       "      <td>11.0</td>\n",
       "      <td>7.2500</td>\n",
       "      <td>0.0</td>\n",
       "      <td>0.0</td>\n",
       "      <td>1</td>\n",
       "    </tr>\n",
       "    <tr>\n",
       "      <th>1</th>\n",
       "      <td>1</td>\n",
       "      <td>2.0</td>\n",
       "      <td>1.0</td>\n",
       "      <td>38.0</td>\n",
       "      <td>25.0</td>\n",
       "      <td>71.2833</td>\n",
       "      <td>2.0</td>\n",
       "      <td>4.0</td>\n",
       "      <td>1</td>\n",
       "    </tr>\n",
       "    <tr>\n",
       "      <th>2</th>\n",
       "      <td>1</td>\n",
       "      <td>0.0</td>\n",
       "      <td>1.0</td>\n",
       "      <td>26.0</td>\n",
       "      <td>23.0</td>\n",
       "      <td>7.9250</td>\n",
       "      <td>0.0</td>\n",
       "      <td>3.0</td>\n",
       "      <td>0</td>\n",
       "    </tr>\n",
       "    <tr>\n",
       "      <th>3</th>\n",
       "      <td>1</td>\n",
       "      <td>2.0</td>\n",
       "      <td>1.0</td>\n",
       "      <td>35.0</td>\n",
       "      <td>18.0</td>\n",
       "      <td>53.1000</td>\n",
       "      <td>0.0</td>\n",
       "      <td>4.0</td>\n",
       "      <td>1</td>\n",
       "    </tr>\n",
       "    <tr>\n",
       "      <th>4</th>\n",
       "      <td>0</td>\n",
       "      <td>0.0</td>\n",
       "      <td>0.0</td>\n",
       "      <td>35.0</td>\n",
       "      <td>18.0</td>\n",
       "      <td>8.0500</td>\n",
       "      <td>0.0</td>\n",
       "      <td>0.0</td>\n",
       "      <td>0</td>\n",
       "    </tr>\n",
       "    <tr>\n",
       "      <th>...</th>\n",
       "      <td>...</td>\n",
       "      <td>...</td>\n",
       "      <td>...</td>\n",
       "      <td>...</td>\n",
       "      <td>...</td>\n",
       "      <td>...</td>\n",
       "      <td>...</td>\n",
       "      <td>...</td>\n",
       "      <td>...</td>\n",
       "    </tr>\n",
       "    <tr>\n",
       "      <th>886</th>\n",
       "      <td>0</td>\n",
       "      <td>1.0</td>\n",
       "      <td>0.0</td>\n",
       "      <td>27.0</td>\n",
       "      <td>18.0</td>\n",
       "      <td>13.0000</td>\n",
       "      <td>0.0</td>\n",
       "      <td>1.0</td>\n",
       "      <td>0</td>\n",
       "    </tr>\n",
       "    <tr>\n",
       "      <th>887</th>\n",
       "      <td>1</td>\n",
       "      <td>2.0</td>\n",
       "      <td>1.0</td>\n",
       "      <td>19.0</td>\n",
       "      <td>18.0</td>\n",
       "      <td>30.0000</td>\n",
       "      <td>0.0</td>\n",
       "      <td>3.0</td>\n",
       "      <td>0</td>\n",
       "    </tr>\n",
       "    <tr>\n",
       "      <th>888</th>\n",
       "      <td>0</td>\n",
       "      <td>0.0</td>\n",
       "      <td>1.0</td>\n",
       "      <td>28.0</td>\n",
       "      <td>12.0</td>\n",
       "      <td>23.4500</td>\n",
       "      <td>0.0</td>\n",
       "      <td>3.0</td>\n",
       "      <td>3</td>\n",
       "    </tr>\n",
       "    <tr>\n",
       "      <th>889</th>\n",
       "      <td>1</td>\n",
       "      <td>2.0</td>\n",
       "      <td>0.0</td>\n",
       "      <td>26.0</td>\n",
       "      <td>18.0</td>\n",
       "      <td>30.0000</td>\n",
       "      <td>2.0</td>\n",
       "      <td>0.0</td>\n",
       "      <td>0</td>\n",
       "    </tr>\n",
       "    <tr>\n",
       "      <th>890</th>\n",
       "      <td>0</td>\n",
       "      <td>0.0</td>\n",
       "      <td>0.0</td>\n",
       "      <td>32.0</td>\n",
       "      <td>18.0</td>\n",
       "      <td>7.7500</td>\n",
       "      <td>1.0</td>\n",
       "      <td>0.0</td>\n",
       "      <td>0</td>\n",
       "    </tr>\n",
       "  </tbody>\n",
       "</table>\n",
       "<p>891 rows × 9 columns</p>\n",
       "</div>"
      ],
      "text/plain": [
       "     Survived  Pclass  Sex   Age  Ticket     Fare  Embarked  Title  FamilySize\n",
       "0           0     0.0  0.0  22.0    11.0   7.2500       0.0    0.0           1\n",
       "1           1     2.0  1.0  38.0    25.0  71.2833       2.0    4.0           1\n",
       "2           1     0.0  1.0  26.0    23.0   7.9250       0.0    3.0           0\n",
       "3           1     2.0  1.0  35.0    18.0  53.1000       0.0    4.0           1\n",
       "4           0     0.0  0.0  35.0    18.0   8.0500       0.0    0.0           0\n",
       "..        ...     ...  ...   ...     ...      ...       ...    ...         ...\n",
       "886         0     1.0  0.0  27.0    18.0  13.0000       0.0    1.0           0\n",
       "887         1     2.0  1.0  19.0    18.0  30.0000       0.0    3.0           0\n",
       "888         0     0.0  1.0  28.0    12.0  23.4500       0.0    3.0           3\n",
       "889         1     2.0  0.0  26.0    18.0  30.0000       2.0    0.0           0\n",
       "890         0     0.0  0.0  32.0    18.0   7.7500       1.0    0.0           0\n",
       "\n",
       "[891 rows x 9 columns]"
      ]
     },
     "execution_count": 44,
     "metadata": {},
     "output_type": "execute_result"
    }
   ],
   "source": [
    "df_train"
   ]
  },
  {
   "cell_type": "code",
   "execution_count": 45,
   "metadata": {},
   "outputs": [],
   "source": [
    "def transform_with_MinMax(train, test, features):\n",
    "    train = train.copy()\n",
    "    test = test.copy()\n",
    "    \n",
    "    scaler = MinMaxScaler()\n",
    "    scaler.fit(train[features])\n",
    "    \n",
    "    train[features] = scaler.transform(train[features])\n",
    "    test[features] = scaler.transform(test[features])\n",
    "    \n",
    "    return train, test\n",
    "\n",
    "def transform_with_Standard(train, test, features):\n",
    "    train = train.copy()\n",
    "    test = test.copy()\n",
    "    \n",
    "    scaler = StandardScaler()\n",
    "    scaler.fit(train[features])\n",
    "    \n",
    "    train[features] = scaler.transform(train[features])\n",
    "    test[features] = scaler.transform(test[features])\n",
    "    \n",
    "    return train, test"
   ]
  },
  {
   "cell_type": "code",
   "execution_count": 46,
   "metadata": {},
   "outputs": [],
   "source": [
    "features = [var for var in df_train.columns if var not in [TARGET]]\n",
    "df_train, df_test = transform_with_Standard(df_train, df_test, features)\n",
    "# df_train, df_test = transform_with_MinMax(df_train, df_test, features)"
   ]
  },
  {
   "cell_type": "markdown",
   "metadata": {},
   "source": [
    "# Modeling"
   ]
  },
  {
   "cell_type": "code",
   "execution_count": 47,
   "metadata": {},
   "outputs": [],
   "source": [
    "from sklearn.model_selection import cross_validate, GridSearchCV\n",
    "\n",
    "\n",
    "from sklearn import svm, tree, linear_model, neighbors, naive_bayes, ensemble, discriminant_analysis, gaussian_process\n",
    "from xgboost import XGBClassifier\n",
    "\n",
    "\n",
    "from sklearn.ensemble import RandomForestClassifier, GradientBoostingClassifier\n",
    "from sklearn.svm import SVC\n",
    "from sklearn.neural_network import MLPClassifier\n",
    "from sklearn.neighbors import KNeighborsClassifier\n",
    "from sklearn.tree import DecisionTreeClassifier"
   ]
  },
  {
   "cell_type": "code",
   "execution_count": 48,
   "metadata": {},
   "outputs": [],
   "source": [
    "X_train = df_train.drop([TARGET], axis=1)\n",
    "y_train = df_train[TARGET]"
   ]
  },
  {
   "cell_type": "code",
   "execution_count": 49,
   "metadata": {},
   "outputs": [],
   "source": [
    "#Validation function\n",
    "n_folds =  12\n",
    "# n_folds =  342\n",
    "\n",
    "\n",
    "def cross_validation(model):\n",
    "    results = cross_validate(model, X_train, y_train, scoring='accuracy', cv=n_folds, return_train_score=True, n_jobs=-1)\n",
    "    return results"
   ]
  },
  {
   "cell_type": "code",
   "execution_count": 50,
   "metadata": {},
   "outputs": [],
   "source": [
    "if os.path.exists(\"model_scores.csv\"):\n",
    "    df_scores = pd.read_csv(\"model_scores.csv\", index_col=\"Model\")\n",
    "else:\n",
    "    MLA_columns = ['Parameters', 'Train Accuracy Mean', \"Test Accuracy Mean\", \"Test Std\", 'Time']\n",
    "    df_scores = pd.DataFrame(columns = MLA_columns)\n",
    "    df_scores.index.name = 'Model'"
   ]
  },
  {
   "cell_type": "code",
   "execution_count": 51,
   "metadata": {},
   "outputs": [],
   "source": [
    "model_version = \"_V1\""
   ]
  },
  {
   "cell_type": "code",
   "execution_count": 52,
   "metadata": {},
   "outputs": [],
   "source": [
    "MLA = [\n",
    "    #Ensemble Methods\n",
    "    ensemble.AdaBoostClassifier(random_state=SEED),\n",
    "    ensemble.BaggingClassifier(random_state=SEED),\n",
    "    ensemble.ExtraTreesClassifier(random_state=SEED),\n",
    "    ensemble.GradientBoostingClassifier(random_state=SEED),\n",
    "    ensemble.RandomForestClassifier(random_state=SEED),\n",
    "\n",
    "    #Gaussian Processes\n",
    "    gaussian_process.GaussianProcessClassifier(random_state=SEED),\n",
    "    \n",
    "    #GLM\n",
    "    linear_model.LogisticRegressionCV(random_state=SEED),\n",
    "    linear_model.PassiveAggressiveClassifier(random_state=SEED),\n",
    "    linear_model.RidgeClassifierCV(),\n",
    "    linear_model.SGDClassifier(random_state=SEED),\n",
    "    linear_model.Perceptron(random_state=SEED),\n",
    "    \n",
    "    #Navies Bayes\n",
    "    naive_bayes.BernoulliNB(),\n",
    "    naive_bayes.GaussianNB(),\n",
    "    \n",
    "    #Nearest Neighbor\n",
    "    neighbors.KNeighborsClassifier(),\n",
    "    \n",
    "    #SVM\n",
    "    svm.SVC(probability=True),\n",
    "    svm.NuSVC(probability=True),\n",
    "    svm.LinearSVC(),\n",
    "    \n",
    "    #Trees    \n",
    "    tree.DecisionTreeClassifier(random_state=SEED),\n",
    "    tree.ExtraTreeClassifier(random_state=SEED),\n",
    "    \n",
    "    #Discriminant Analysis\n",
    "    discriminant_analysis.LinearDiscriminantAnalysis(),\n",
    "    discriminant_analysis.QuadraticDiscriminantAnalysis(),\n",
    "\n",
    "    \n",
    "    XGBClassifier(random_state=SEED)    \n",
    "    ]"
   ]
  },
  {
   "cell_type": "code",
   "execution_count": 53,
   "metadata": {},
   "outputs": [
    {
     "data": {
      "text/html": [
       "<div>\n",
       "<style scoped>\n",
       "    .dataframe tbody tr th:only-of-type {\n",
       "        vertical-align: middle;\n",
       "    }\n",
       "\n",
       "    .dataframe tbody tr th {\n",
       "        vertical-align: top;\n",
       "    }\n",
       "\n",
       "    .dataframe thead th {\n",
       "        text-align: right;\n",
       "    }\n",
       "</style>\n",
       "<table border=\"1\" class=\"dataframe\">\n",
       "  <thead>\n",
       "    <tr style=\"text-align: right;\">\n",
       "      <th></th>\n",
       "      <th>Parameters</th>\n",
       "      <th>Train Accuracy Mean</th>\n",
       "      <th>Test Accuracy Mean</th>\n",
       "      <th>Test Std</th>\n",
       "      <th>Time</th>\n",
       "    </tr>\n",
       "    <tr>\n",
       "      <th>Model</th>\n",
       "      <th></th>\n",
       "      <th></th>\n",
       "      <th></th>\n",
       "      <th></th>\n",
       "      <th></th>\n",
       "    </tr>\n",
       "  </thead>\n",
       "  <tbody>\n",
       "    <tr>\n",
       "      <th>XGBClassifier_V1</th>\n",
       "      <td>{'base_score': 0.5, 'booster': 'gbtree', 'cols...</td>\n",
       "      <td>0.881034</td>\n",
       "      <td>0.840676</td>\n",
       "      <td>0.0379264</td>\n",
       "      <td>1.21056</td>\n",
       "    </tr>\n",
       "    <tr>\n",
       "      <th>GradientBoostingClassifier_V1</th>\n",
       "      <td>{'ccp_alpha': 0.0, 'criterion': 'friedman_mse'...</td>\n",
       "      <td>0.899195</td>\n",
       "      <td>0.838393</td>\n",
       "      <td>0.0408512</td>\n",
       "      <td>0.1635</td>\n",
       "    </tr>\n",
       "    <tr>\n",
       "      <th>SVC_V1</th>\n",
       "      <td>{'C': 1.0, 'break_ties': False, 'cache_size': ...</td>\n",
       "      <td>0.849097</td>\n",
       "      <td>0.836156</td>\n",
       "      <td>0.0324527</td>\n",
       "      <td>0.194833</td>\n",
       "    </tr>\n",
       "    <tr>\n",
       "      <th>GaussianProcessClassifier_V1</th>\n",
       "      <td>{'copy_X_train': True, 'kernel': None, 'max_it...</td>\n",
       "      <td>0.865933</td>\n",
       "      <td>0.833934</td>\n",
       "      <td>0.0285744</td>\n",
       "      <td>1.11907</td>\n",
       "    </tr>\n",
       "    <tr>\n",
       "      <th>BaggingClassifier_V1</th>\n",
       "      <td>{'base_estimator': None, 'bootstrap': True, 'b...</td>\n",
       "      <td>0.969595</td>\n",
       "      <td>0.830571</td>\n",
       "      <td>0.0245415</td>\n",
       "      <td>0.0412476</td>\n",
       "    </tr>\n",
       "    <tr>\n",
       "      <th>KNeighborsClassifier_V1</th>\n",
       "      <td>{'algorithm': 'auto', 'leaf_size': 30, 'metric...</td>\n",
       "      <td>0.869094</td>\n",
       "      <td>0.830571</td>\n",
       "      <td>0.0182095</td>\n",
       "      <td>0.0041669</td>\n",
       "    </tr>\n",
       "    <tr>\n",
       "      <th>NuSVC_V1</th>\n",
       "      <td>{'break_ties': False, 'cache_size': 200, 'clas...</td>\n",
       "      <td>0.832365</td>\n",
       "      <td>0.826051</td>\n",
       "      <td>0.0349832</td>\n",
       "      <td>0.234679</td>\n",
       "    </tr>\n",
       "    <tr>\n",
       "      <th>RandomForestClassifier_V1</th>\n",
       "      <td>{'bootstrap': True, 'ccp_alpha': 0.0, 'class_w...</td>\n",
       "      <td>0.988165</td>\n",
       "      <td>0.821637</td>\n",
       "      <td>0.0359381</td>\n",
       "      <td>0.278886</td>\n",
       "    </tr>\n",
       "    <tr>\n",
       "      <th>AdaBoostClassifier_V1</th>\n",
       "      <td>{'algorithm': 'SAMME.R', 'base_estimator': Non...</td>\n",
       "      <td>0.846341</td>\n",
       "      <td>0.817087</td>\n",
       "      <td>0.0344562</td>\n",
       "      <td>0.163669</td>\n",
       "    </tr>\n",
       "    <tr>\n",
       "      <th>DecisionTreeClassifier_V1</th>\n",
       "      <td>{'ccp_alpha': 0.0, 'class_weight': None, 'crit...</td>\n",
       "      <td>0.988165</td>\n",
       "      <td>0.814925</td>\n",
       "      <td>0.0350438</td>\n",
       "      <td>0.00399965</td>\n",
       "    </tr>\n",
       "    <tr>\n",
       "      <th>LinearSVC_V1</th>\n",
       "      <td>{'C': 1.0, 'class_weight': None, 'dual': True,...</td>\n",
       "      <td>0.816244</td>\n",
       "      <td>0.814835</td>\n",
       "      <td>0.028544</td>\n",
       "      <td>0.0431683</td>\n",
       "    </tr>\n",
       "    <tr>\n",
       "      <th>RidgeClassifierCV_V1</th>\n",
       "      <td>{'alphas': array([ 0.1,  1. , 10. ]), 'class_w...</td>\n",
       "      <td>0.813897</td>\n",
       "      <td>0.813724</td>\n",
       "      <td>0.0332142</td>\n",
       "      <td>0.00574994</td>\n",
       "    </tr>\n",
       "    <tr>\n",
       "      <th>LogisticRegressionCV_V1</th>\n",
       "      <td>{'Cs': 10, 'class_weight': None, 'cv': None, '...</td>\n",
       "      <td>0.820733</td>\n",
       "      <td>0.813709</td>\n",
       "      <td>0.0261531</td>\n",
       "      <td>0.234167</td>\n",
       "    </tr>\n",
       "    <tr>\n",
       "      <th>LinearDiscriminantAnalysis_V1</th>\n",
       "      <td>{'covariance_estimator': None, 'n_components':...</td>\n",
       "      <td>0.814815</td>\n",
       "      <td>0.813709</td>\n",
       "      <td>0.0304544</td>\n",
       "      <td>0.00460446</td>\n",
       "    </tr>\n",
       "    <tr>\n",
       "      <th>QuadraticDiscriminantAnalysis_V1</th>\n",
       "      <td>{'priors': None, 'reg_param': 0.0, 'store_cova...</td>\n",
       "      <td>0.816142</td>\n",
       "      <td>0.80479</td>\n",
       "      <td>0.0322823</td>\n",
       "      <td>0.00241657</td>\n",
       "    </tr>\n",
       "    <tr>\n",
       "      <th>ExtraTreesClassifier_V1</th>\n",
       "      <td>{'bootstrap': False, 'ccp_alpha': 0.0, 'class_...</td>\n",
       "      <td>0.988165</td>\n",
       "      <td>0.801502</td>\n",
       "      <td>0.0451484</td>\n",
       "      <td>0.243167</td>\n",
       "    </tr>\n",
       "    <tr>\n",
       "      <th>GaussianNB_V1</th>\n",
       "      <td>{'priors': None, 'var_smoothing': 1e-09}</td>\n",
       "      <td>0.798797</td>\n",
       "      <td>0.7947</td>\n",
       "      <td>0.0279708</td>\n",
       "      <td>0.00258336</td>\n",
       "    </tr>\n",
       "    <tr>\n",
       "      <th>ExtraTreeClassifier_V1</th>\n",
       "      <td>{'ccp_alpha': 0.0, 'class_weight': None, 'crit...</td>\n",
       "      <td>0.988165</td>\n",
       "      <td>0.784655</td>\n",
       "      <td>0.0431295</td>\n",
       "      <td>0.00306278</td>\n",
       "    </tr>\n",
       "    <tr>\n",
       "      <th>BernoulliNB_V1</th>\n",
       "      <td>{'alpha': 1.0, 'binarize': 0.0, 'class_prior':...</td>\n",
       "      <td>0.784307</td>\n",
       "      <td>0.78006</td>\n",
       "      <td>0.0320222</td>\n",
       "      <td>0.00299954</td>\n",
       "    </tr>\n",
       "    <tr>\n",
       "      <th>SGDClassifier_V1</th>\n",
       "      <td>{'alpha': 0.0001, 'average': False, 'class_wei...</td>\n",
       "      <td>0.796751</td>\n",
       "      <td>0.777883</td>\n",
       "      <td>0.0464632</td>\n",
       "      <td>0.00525361</td>\n",
       "    </tr>\n",
       "    <tr>\n",
       "      <th>Perceptron_V1</th>\n",
       "      <td>{'alpha': 0.0001, 'class_weight': None, 'early...</td>\n",
       "      <td>0.687965</td>\n",
       "      <td>0.697297</td>\n",
       "      <td>0.0951551</td>\n",
       "      <td>0.00375052</td>\n",
       "    </tr>\n",
       "    <tr>\n",
       "      <th>PassiveAggressiveClassifier_V1</th>\n",
       "      <td>{'C': 1.0, 'average': False, 'class_weight': N...</td>\n",
       "      <td>0.682852</td>\n",
       "      <td>0.676246</td>\n",
       "      <td>0.154717</td>\n",
       "      <td>0.00449969</td>\n",
       "    </tr>\n",
       "  </tbody>\n",
       "</table>\n",
       "</div>"
      ],
      "text/plain": [
       "                                                                         Parameters  \\\n",
       "Model                                                                                 \n",
       "XGBClassifier_V1                  {'base_score': 0.5, 'booster': 'gbtree', 'cols...   \n",
       "GradientBoostingClassifier_V1     {'ccp_alpha': 0.0, 'criterion': 'friedman_mse'...   \n",
       "SVC_V1                            {'C': 1.0, 'break_ties': False, 'cache_size': ...   \n",
       "GaussianProcessClassifier_V1      {'copy_X_train': True, 'kernel': None, 'max_it...   \n",
       "BaggingClassifier_V1              {'base_estimator': None, 'bootstrap': True, 'b...   \n",
       "KNeighborsClassifier_V1           {'algorithm': 'auto', 'leaf_size': 30, 'metric...   \n",
       "NuSVC_V1                          {'break_ties': False, 'cache_size': 200, 'clas...   \n",
       "RandomForestClassifier_V1         {'bootstrap': True, 'ccp_alpha': 0.0, 'class_w...   \n",
       "AdaBoostClassifier_V1             {'algorithm': 'SAMME.R', 'base_estimator': Non...   \n",
       "DecisionTreeClassifier_V1         {'ccp_alpha': 0.0, 'class_weight': None, 'crit...   \n",
       "LinearSVC_V1                      {'C': 1.0, 'class_weight': None, 'dual': True,...   \n",
       "RidgeClassifierCV_V1              {'alphas': array([ 0.1,  1. , 10. ]), 'class_w...   \n",
       "LogisticRegressionCV_V1           {'Cs': 10, 'class_weight': None, 'cv': None, '...   \n",
       "LinearDiscriminantAnalysis_V1     {'covariance_estimator': None, 'n_components':...   \n",
       "QuadraticDiscriminantAnalysis_V1  {'priors': None, 'reg_param': 0.0, 'store_cova...   \n",
       "ExtraTreesClassifier_V1           {'bootstrap': False, 'ccp_alpha': 0.0, 'class_...   \n",
       "GaussianNB_V1                              {'priors': None, 'var_smoothing': 1e-09}   \n",
       "ExtraTreeClassifier_V1            {'ccp_alpha': 0.0, 'class_weight': None, 'crit...   \n",
       "BernoulliNB_V1                    {'alpha': 1.0, 'binarize': 0.0, 'class_prior':...   \n",
       "SGDClassifier_V1                  {'alpha': 0.0001, 'average': False, 'class_wei...   \n",
       "Perceptron_V1                     {'alpha': 0.0001, 'class_weight': None, 'early...   \n",
       "PassiveAggressiveClassifier_V1    {'C': 1.0, 'average': False, 'class_weight': N...   \n",
       "\n",
       "                                 Train Accuracy Mean Test Accuracy Mean  \\\n",
       "Model                                                                     \n",
       "XGBClassifier_V1                            0.881034           0.840676   \n",
       "GradientBoostingClassifier_V1               0.899195           0.838393   \n",
       "SVC_V1                                      0.849097           0.836156   \n",
       "GaussianProcessClassifier_V1                0.865933           0.833934   \n",
       "BaggingClassifier_V1                        0.969595           0.830571   \n",
       "KNeighborsClassifier_V1                     0.869094           0.830571   \n",
       "NuSVC_V1                                    0.832365           0.826051   \n",
       "RandomForestClassifier_V1                   0.988165           0.821637   \n",
       "AdaBoostClassifier_V1                       0.846341           0.817087   \n",
       "DecisionTreeClassifier_V1                   0.988165           0.814925   \n",
       "LinearSVC_V1                                0.816244           0.814835   \n",
       "RidgeClassifierCV_V1                        0.813897           0.813724   \n",
       "LogisticRegressionCV_V1                     0.820733           0.813709   \n",
       "LinearDiscriminantAnalysis_V1               0.814815           0.813709   \n",
       "QuadraticDiscriminantAnalysis_V1            0.816142            0.80479   \n",
       "ExtraTreesClassifier_V1                     0.988165           0.801502   \n",
       "GaussianNB_V1                               0.798797             0.7947   \n",
       "ExtraTreeClassifier_V1                      0.988165           0.784655   \n",
       "BernoulliNB_V1                              0.784307            0.78006   \n",
       "SGDClassifier_V1                            0.796751           0.777883   \n",
       "Perceptron_V1                               0.687965           0.697297   \n",
       "PassiveAggressiveClassifier_V1              0.682852           0.676246   \n",
       "\n",
       "                                   Test Std        Time  \n",
       "Model                                                    \n",
       "XGBClassifier_V1                  0.0379264     1.21056  \n",
       "GradientBoostingClassifier_V1     0.0408512      0.1635  \n",
       "SVC_V1                            0.0324527    0.194833  \n",
       "GaussianProcessClassifier_V1      0.0285744     1.11907  \n",
       "BaggingClassifier_V1              0.0245415   0.0412476  \n",
       "KNeighborsClassifier_V1           0.0182095   0.0041669  \n",
       "NuSVC_V1                          0.0349832    0.234679  \n",
       "RandomForestClassifier_V1         0.0359381    0.278886  \n",
       "AdaBoostClassifier_V1             0.0344562    0.163669  \n",
       "DecisionTreeClassifier_V1         0.0350438  0.00399965  \n",
       "LinearSVC_V1                       0.028544   0.0431683  \n",
       "RidgeClassifierCV_V1              0.0332142  0.00574994  \n",
       "LogisticRegressionCV_V1           0.0261531    0.234167  \n",
       "LinearDiscriminantAnalysis_V1     0.0304544  0.00460446  \n",
       "QuadraticDiscriminantAnalysis_V1  0.0322823  0.00241657  \n",
       "ExtraTreesClassifier_V1           0.0451484    0.243167  \n",
       "GaussianNB_V1                     0.0279708  0.00258336  \n",
       "ExtraTreeClassifier_V1            0.0431295  0.00306278  \n",
       "BernoulliNB_V1                    0.0320222  0.00299954  \n",
       "SGDClassifier_V1                  0.0464632  0.00525361  \n",
       "Perceptron_V1                     0.0951551  0.00375052  \n",
       "PassiveAggressiveClassifier_V1     0.154717  0.00449969  "
      ]
     },
     "execution_count": 53,
     "metadata": {},
     "output_type": "execute_result"
    }
   ],
   "source": [
    "# Reference\n",
    "# https://www.kaggle.com/ldfreeman3/a-data-science-framework-to-achieve-99-accuracy/notebook#Step-5:-Model-Data\n",
    "\n",
    "#index through MLA and save performance to table\n",
    "for alg in MLA:\n",
    "\n",
    "    #set name and parameters\n",
    "    MLA_name = alg.__class__.__name__ + model_version\n",
    "#     df_scores.loc[row_index, 'Model'] = MLA_name\n",
    "    df_scores.loc[MLA_name, 'Parameters'] = str(alg.get_params())\n",
    "    \n",
    "    cv_results = cross_validation(alg)\n",
    "\n",
    "    df_scores.loc[MLA_name, 'Time'] = cv_results['fit_time'].mean()\n",
    "    df_scores.loc[MLA_name, 'Train Accuracy Mean'] = cv_results['train_score'].mean()\n",
    "    df_scores.loc[MLA_name, 'Test Accuracy Mean'] = cv_results['test_score'].mean()\n",
    "    df_scores.loc[MLA_name, 'Test Std'] = cv_results['test_score'].std()   \n",
    "\n",
    "    \n",
    "df_scores.sort_values(by = ['Test Accuracy Mean'], ascending=False, inplace=True)\n",
    "df_scores"
   ]
  },
  {
   "cell_type": "code",
   "execution_count": 54,
   "metadata": {},
   "outputs": [
    {
     "data": {
      "image/png": "[encoded data removed]",
      "text/plain": [
       "<Figure size 1080x720 with 1 Axes>"
      ]
     },
     "metadata": {},
     "output_type": "display_data"
    }
   ],
   "source": [
    "plt.figure(figsize=(15, 10))\n",
    "sns.barplot(x='Test Accuracy Mean', y=df_scores.index, data=df_scores, color='r')\n",
    "plt.title('Machine Learning Algorithm Test Accuracy \\n')\n",
    "plt.xlabel('Accuracy Score (%)')\n",
    "plt.ylabel('Algorithm');"
   ]
  },
  {
   "cell_type": "markdown",
   "metadata": {},
   "source": [
    "Lets explore more KNN, RandomForest, GradientBoosting and XGboost classifiers for the better preformance."
   ]
  },
  {
   "cell_type": "code",
   "execution_count": 55,
   "metadata": {},
   "outputs": [],
   "source": [
    "model_version = \"_V2\""
   ]
  },
  {
   "cell_type": "markdown",
   "metadata": {},
   "source": [
    "**K Nearest Neighbor**"
   ]
  },
  {
   "cell_type": "code",
   "execution_count": 56,
   "metadata": {},
   "outputs": [
    {
     "name": "stdout",
     "output_type": "stream",
     "text": [
      "Fitting 12 folds for each of 13 candidates, totalling 156 fits\n",
      "{'n_neighbors': 7}\n",
      "Wall time: 1.31 s\n"
     ]
    },
    {
     "data": {
      "text/html": [
       "<div>\n",
       "<style scoped>\n",
       "    .dataframe tbody tr th:only-of-type {\n",
       "        vertical-align: middle;\n",
       "    }\n",
       "\n",
       "    .dataframe tbody tr th {\n",
       "        vertical-align: top;\n",
       "    }\n",
       "\n",
       "    .dataframe thead th {\n",
       "        text-align: right;\n",
       "    }\n",
       "</style>\n",
       "<table border=\"1\" class=\"dataframe\">\n",
       "  <thead>\n",
       "    <tr style=\"text-align: right;\">\n",
       "      <th></th>\n",
       "      <th>KNeighborsClassifier_V2</th>\n",
       "    </tr>\n",
       "  </thead>\n",
       "  <tbody>\n",
       "    <tr>\n",
       "      <th>Parameters</th>\n",
       "      <td>{'algorithm': 'auto', 'leaf_size': 30, 'metric...</td>\n",
       "    </tr>\n",
       "    <tr>\n",
       "      <th>Train Accuracy Mean</th>\n",
       "      <td>0.860321</td>\n",
       "    </tr>\n",
       "    <tr>\n",
       "      <th>Test Accuracy Mean</th>\n",
       "      <td>0.830631</td>\n",
       "    </tr>\n",
       "    <tr>\n",
       "      <th>Test Std</th>\n",
       "      <td>0.029723</td>\n",
       "    </tr>\n",
       "    <tr>\n",
       "      <th>Time</th>\n",
       "      <td>0.004417</td>\n",
       "    </tr>\n",
       "  </tbody>\n",
       "</table>\n",
       "</div>"
      ],
      "text/plain": [
       "                                               KNeighborsClassifier_V2\n",
       "Parameters           {'algorithm': 'auto', 'leaf_size': 30, 'metric...\n",
       "Train Accuracy Mean                                           0.860321\n",
       "Test Accuracy Mean                                            0.830631\n",
       "Test Std                                                      0.029723\n",
       "Time                                                          0.004417"
      ]
     },
     "execution_count": 56,
     "metadata": {},
     "output_type": "execute_result"
    }
   ],
   "source": [
    "%%time\n",
    "\n",
    "param_grid = {'n_neighbors': [5, 6,7,8,9, 11,12,14,16,18, 19, 20, 21],\n",
    "             }\n",
    "clf = KNeighborsClassifier()\n",
    "\n",
    "grid_search = GridSearchCV(clf, param_grid=param_grid, cv=n_folds, scoring=\"accuracy\", return_train_score=True, n_jobs=-1, verbose=True)\n",
    "grid_search.fit(X_train, y_train)\n",
    "best_params = grid_search.best_params_\n",
    "\n",
    "print(best_params) \n",
    "\n",
    "\n",
    "clf = KNeighborsClassifier(**best_params, n_jobs=-1)\n",
    "model_name = clf.__class__.__name__ + model_version\n",
    "\n",
    "cv_results = cross_validation(clf)\n",
    "\n",
    "\n",
    "df_scores.loc[model_name, 'Parameters'] = str(clf.get_params())\n",
    "df_scores.loc[model_name, 'Time'] = cv_results['fit_time'].mean()\n",
    "df_scores.loc[model_name, 'Train Accuracy Mean'] = cv_results['train_score'].mean()\n",
    "df_scores.loc[model_name, 'Test Accuracy Mean'] = cv_results['test_score'].mean()\n",
    "df_scores.loc[model_name, 'Test Std'] = cv_results['test_score'].std()\n",
    "df_scores.loc[model_name].to_frame()"
   ]
  },
  {
   "cell_type": "markdown",
   "metadata": {},
   "source": [
    "**Decision Tree Classifier**"
   ]
  },
  {
   "cell_type": "code",
   "execution_count": 57,
   "metadata": {},
   "outputs": [
    {
     "name": "stdout",
     "output_type": "stream",
     "text": [
      "Fitting 12 folds for each of 4 candidates, totalling 48 fits\n",
      "{'max_depth': 4}\n",
      "Wall time: 179 ms\n"
     ]
    },
    {
     "data": {
      "text/html": [
       "<div>\n",
       "<style scoped>\n",
       "    .dataframe tbody tr th:only-of-type {\n",
       "        vertical-align: middle;\n",
       "    }\n",
       "\n",
       "    .dataframe tbody tr th {\n",
       "        vertical-align: top;\n",
       "    }\n",
       "\n",
       "    .dataframe thead th {\n",
       "        text-align: right;\n",
       "    }\n",
       "</style>\n",
       "<table border=\"1\" class=\"dataframe\">\n",
       "  <thead>\n",
       "    <tr style=\"text-align: right;\">\n",
       "      <th></th>\n",
       "      <th>DecisionTreeClassifier_V2</th>\n",
       "    </tr>\n",
       "  </thead>\n",
       "  <tbody>\n",
       "    <tr>\n",
       "      <th>Parameters</th>\n",
       "      <td>{'ccp_alpha': 0.0, 'class_weight': None, 'crit...</td>\n",
       "    </tr>\n",
       "    <tr>\n",
       "      <th>Train Accuracy Mean</th>\n",
       "      <td>0.84226</td>\n",
       "    </tr>\n",
       "    <tr>\n",
       "      <th>Test Accuracy Mean</th>\n",
       "      <td>0.828288</td>\n",
       "    </tr>\n",
       "    <tr>\n",
       "      <th>Test Std</th>\n",
       "      <td>0.0357544</td>\n",
       "    </tr>\n",
       "    <tr>\n",
       "      <th>Time</th>\n",
       "      <td>0.00325038</td>\n",
       "    </tr>\n",
       "  </tbody>\n",
       "</table>\n",
       "</div>"
      ],
      "text/plain": [
       "                                             DecisionTreeClassifier_V2\n",
       "Parameters           {'ccp_alpha': 0.0, 'class_weight': None, 'crit...\n",
       "Train Accuracy Mean                                            0.84226\n",
       "Test Accuracy Mean                                            0.828288\n",
       "Test Std                                                     0.0357544\n",
       "Time                                                        0.00325038"
      ]
     },
     "execution_count": 57,
     "metadata": {},
     "output_type": "execute_result"
    }
   ],
   "source": [
    "%%time\n",
    "\n",
    "param_grid = {'max_depth': [4, 8, 16, 32]\n",
    "             }\n",
    "\n",
    "clf = DecisionTreeClassifier(random_state=SEED)\n",
    "\n",
    "grid_search = GridSearchCV(clf, param_grid=param_grid, cv=n_folds, scoring=\"accuracy\", return_train_score=True, n_jobs=-1, verbose=2)\n",
    "grid_search.fit(X_train, y_train)\n",
    "best_params = grid_search.best_params_\n",
    "\n",
    "print(best_params) \n",
    "\n",
    "clf = DecisionTreeClassifier(**best_params, random_state=SEED)\n",
    "model_name = clf.__class__.__name__ + model_version\n",
    "\n",
    "cv_results = cross_validation(clf)\n",
    "\n",
    "\n",
    "df_scores.loc[model_name, 'Parameters'] = str(clf.get_params())\n",
    "df_scores.loc[model_name, 'Time'] = cv_results['fit_time'].mean()\n",
    "df_scores.loc[model_name, 'Train Accuracy Mean'] = cv_results['train_score'].mean()\n",
    "df_scores.loc[model_name, 'Test Accuracy Mean'] = cv_results['test_score'].mean()\n",
    "df_scores.loc[model_name, 'Test Std'] = cv_results['test_score'].std()\n",
    "df_scores.loc[model_name].to_frame()"
   ]
  },
  {
   "cell_type": "code",
   "execution_count": 58,
   "metadata": {},
   "outputs": [
    {
     "data": {
      "text/html": [
       "<div>\n",
       "<style scoped>\n",
       "    .dataframe tbody tr th:only-of-type {\n",
       "        vertical-align: middle;\n",
       "    }\n",
       "\n",
       "    .dataframe tbody tr th {\n",
       "        vertical-align: top;\n",
       "    }\n",
       "\n",
       "    .dataframe thead th {\n",
       "        text-align: right;\n",
       "    }\n",
       "</style>\n",
       "<table border=\"1\" class=\"dataframe\">\n",
       "  <thead>\n",
       "    <tr style=\"text-align: right;\">\n",
       "      <th></th>\n",
       "      <th>Feature</th>\n",
       "      <th>Importance</th>\n",
       "    </tr>\n",
       "  </thead>\n",
       "  <tbody>\n",
       "    <tr>\n",
       "      <th>6</th>\n",
       "      <td>Title</td>\n",
       "      <td>0.591598</td>\n",
       "    </tr>\n",
       "    <tr>\n",
       "      <th>0</th>\n",
       "      <td>Pclass</td>\n",
       "      <td>0.236081</td>\n",
       "    </tr>\n",
       "    <tr>\n",
       "      <th>7</th>\n",
       "      <td>FamilySize</td>\n",
       "      <td>0.086597</td>\n",
       "    </tr>\n",
       "    <tr>\n",
       "      <th>3</th>\n",
       "      <td>Ticket</td>\n",
       "      <td>0.041452</td>\n",
       "    </tr>\n",
       "    <tr>\n",
       "      <th>4</th>\n",
       "      <td>Fare</td>\n",
       "      <td>0.029417</td>\n",
       "    </tr>\n",
       "    <tr>\n",
       "      <th>1</th>\n",
       "      <td>Sex</td>\n",
       "      <td>0.014856</td>\n",
       "    </tr>\n",
       "    <tr>\n",
       "      <th>2</th>\n",
       "      <td>Age</td>\n",
       "      <td>0.000000</td>\n",
       "    </tr>\n",
       "    <tr>\n",
       "      <th>5</th>\n",
       "      <td>Embarked</td>\n",
       "      <td>0.000000</td>\n",
       "    </tr>\n",
       "  </tbody>\n",
       "</table>\n",
       "</div>"
      ],
      "text/plain": [
       "      Feature  Importance\n",
       "6       Title    0.591598\n",
       "0      Pclass    0.236081\n",
       "7  FamilySize    0.086597\n",
       "3      Ticket    0.041452\n",
       "4        Fare    0.029417\n",
       "1         Sex    0.014856\n",
       "2         Age    0.000000\n",
       "5    Embarked    0.000000"
      ]
     },
     "execution_count": 58,
     "metadata": {},
     "output_type": "execute_result"
    }
   ],
   "source": [
    "clf.fit(X_train, y_train)\n",
    "f = pd.DataFrame(columns=['Feature', 'Importance'])\n",
    "f['Feature'] =  X_train.columns\n",
    "f['Importance'] = clf.feature_importances_\n",
    "f.sort_values('Importance', ascending=False)"
   ]
  },
  {
   "cell_type": "markdown",
   "metadata": {},
   "source": [
    "**Random Forest Classifier**"
   ]
  },
  {
   "cell_type": "code",
   "execution_count": 59,
   "metadata": {},
   "outputs": [
    {
     "name": "stdout",
     "output_type": "stream",
     "text": [
      "Fitting 12 folds for each of 9 candidates, totalling 108 fits\n",
      "{'max_depth': 8, 'n_estimators': 100}\n",
      "Wall time: 29.1 s\n"
     ]
    },
    {
     "data": {
      "text/html": [
       "<div>\n",
       "<style scoped>\n",
       "    .dataframe tbody tr th:only-of-type {\n",
       "        vertical-align: middle;\n",
       "    }\n",
       "\n",
       "    .dataframe tbody tr th {\n",
       "        vertical-align: top;\n",
       "    }\n",
       "\n",
       "    .dataframe thead th {\n",
       "        text-align: right;\n",
       "    }\n",
       "</style>\n",
       "<table border=\"1\" class=\"dataframe\">\n",
       "  <thead>\n",
       "    <tr style=\"text-align: right;\">\n",
       "      <th></th>\n",
       "      <th>RandomForestClassifier_V2</th>\n",
       "    </tr>\n",
       "  </thead>\n",
       "  <tbody>\n",
       "    <tr>\n",
       "      <th>Parameters</th>\n",
       "      <td>{'bootstrap': True, 'ccp_alpha': 0.0, 'class_w...</td>\n",
       "    </tr>\n",
       "    <tr>\n",
       "      <th>Train Accuracy Mean</th>\n",
       "      <td>0.912459</td>\n",
       "    </tr>\n",
       "    <tr>\n",
       "      <th>Test Accuracy Mean</th>\n",
       "      <td>0.841847</td>\n",
       "    </tr>\n",
       "    <tr>\n",
       "      <th>Test Std</th>\n",
       "      <td>0.0429324</td>\n",
       "    </tr>\n",
       "    <tr>\n",
       "      <th>Time</th>\n",
       "      <td>0.472172</td>\n",
       "    </tr>\n",
       "  </tbody>\n",
       "</table>\n",
       "</div>"
      ],
      "text/plain": [
       "                                             RandomForestClassifier_V2\n",
       "Parameters           {'bootstrap': True, 'ccp_alpha': 0.0, 'class_w...\n",
       "Train Accuracy Mean                                           0.912459\n",
       "Test Accuracy Mean                                            0.841847\n",
       "Test Std                                                     0.0429324\n",
       "Time                                                          0.472172"
      ]
     },
     "execution_count": 59,
     "metadata": {},
     "output_type": "execute_result"
    }
   ],
   "source": [
    "%%time\n",
    "\n",
    "param_grid = {'n_estimators': [100, 300, 500],\n",
    "              'max_depth': [4, 8, 16],\n",
    "             }\n",
    "\n",
    "clf = RandomForestClassifier(random_state=SEED, n_jobs=5)\n",
    "\n",
    "grid_search = GridSearchCV(clf, param_grid=param_grid, cv=n_folds, scoring=\"accuracy\", return_train_score=True, n_jobs=5, verbose=2)\n",
    "grid_search.fit(X_train, y_train)\n",
    "best_params = grid_search.best_params_\n",
    "\n",
    "print(best_params)\n",
    "\n",
    "clf = RandomForestClassifier(**best_params, n_jobs=-1, random_state=SEED)\n",
    "model_name = clf.__class__.__name__ + model_version\n",
    "\n",
    "cv_results = cross_validation(clf)\n",
    "\n",
    "\n",
    "df_scores.loc[model_name, 'Parameters'] = str(clf.get_params())\n",
    "df_scores.loc[model_name, 'Time'] = cv_results['fit_time'].mean()\n",
    "df_scores.loc[model_name, 'Train Accuracy Mean'] = cv_results['train_score'].mean()\n",
    "df_scores.loc[model_name, 'Test Accuracy Mean'] = cv_results['test_score'].mean()\n",
    "df_scores.loc[model_name, 'Test Std'] = cv_results['test_score'].std()\n",
    "df_scores.loc[model_name].to_frame()"
   ]
  },
  {
   "cell_type": "code",
   "execution_count": 60,
   "metadata": {},
   "outputs": [
    {
     "data": {
      "text/html": [
       "<div>\n",
       "<style scoped>\n",
       "    .dataframe tbody tr th:only-of-type {\n",
       "        vertical-align: middle;\n",
       "    }\n",
       "\n",
       "    .dataframe tbody tr th {\n",
       "        vertical-align: top;\n",
       "    }\n",
       "\n",
       "    .dataframe thead th {\n",
       "        text-align: right;\n",
       "    }\n",
       "</style>\n",
       "<table border=\"1\" class=\"dataframe\">\n",
       "  <thead>\n",
       "    <tr style=\"text-align: right;\">\n",
       "      <th></th>\n",
       "      <th>Feature</th>\n",
       "      <th>Importance</th>\n",
       "    </tr>\n",
       "  </thead>\n",
       "  <tbody>\n",
       "    <tr>\n",
       "      <th>1</th>\n",
       "      <td>Sex</td>\n",
       "      <td>0.231537</td>\n",
       "    </tr>\n",
       "    <tr>\n",
       "      <th>6</th>\n",
       "      <td>Title</td>\n",
       "      <td>0.214017</td>\n",
       "    </tr>\n",
       "    <tr>\n",
       "      <th>4</th>\n",
       "      <td>Fare</td>\n",
       "      <td>0.160964</td>\n",
       "    </tr>\n",
       "    <tr>\n",
       "      <th>2</th>\n",
       "      <td>Age</td>\n",
       "      <td>0.114541</td>\n",
       "    </tr>\n",
       "    <tr>\n",
       "      <th>0</th>\n",
       "      <td>Pclass</td>\n",
       "      <td>0.108014</td>\n",
       "    </tr>\n",
       "    <tr>\n",
       "      <th>7</th>\n",
       "      <td>FamilySize</td>\n",
       "      <td>0.085585</td>\n",
       "    </tr>\n",
       "    <tr>\n",
       "      <th>3</th>\n",
       "      <td>Ticket</td>\n",
       "      <td>0.059461</td>\n",
       "    </tr>\n",
       "    <tr>\n",
       "      <th>5</th>\n",
       "      <td>Embarked</td>\n",
       "      <td>0.025881</td>\n",
       "    </tr>\n",
       "  </tbody>\n",
       "</table>\n",
       "</div>"
      ],
      "text/plain": [
       "      Feature  Importance\n",
       "1         Sex    0.231537\n",
       "6       Title    0.214017\n",
       "4        Fare    0.160964\n",
       "2         Age    0.114541\n",
       "0      Pclass    0.108014\n",
       "7  FamilySize    0.085585\n",
       "3      Ticket    0.059461\n",
       "5    Embarked    0.025881"
      ]
     },
     "execution_count": 60,
     "metadata": {},
     "output_type": "execute_result"
    }
   ],
   "source": [
    "clf.fit(X_train, y_train)\n",
    "f = pd.DataFrame(columns=['Feature', 'Importance'])\n",
    "f['Feature'] =  X_train.columns\n",
    "f['Importance'] = clf.feature_importances_\n",
    "f.sort_values('Importance', ascending=False)"
   ]
  },
  {
   "cell_type": "code",
   "execution_count": 61,
   "metadata": {},
   "outputs": [
    {
     "data": {
      "text/html": [
       "<div>\n",
       "<style scoped>\n",
       "    .dataframe tbody tr th:only-of-type {\n",
       "        vertical-align: middle;\n",
       "    }\n",
       "\n",
       "    .dataframe tbody tr th {\n",
       "        vertical-align: top;\n",
       "    }\n",
       "\n",
       "    .dataframe thead th {\n",
       "        text-align: right;\n",
       "    }\n",
       "</style>\n",
       "<table border=\"1\" class=\"dataframe\">\n",
       "  <thead>\n",
       "    <tr style=\"text-align: right;\">\n",
       "      <th></th>\n",
       "      <th>Parameters</th>\n",
       "      <th>Train Accuracy Mean</th>\n",
       "      <th>Test Accuracy Mean</th>\n",
       "      <th>Test Std</th>\n",
       "      <th>Time</th>\n",
       "    </tr>\n",
       "    <tr>\n",
       "      <th>Model</th>\n",
       "      <th></th>\n",
       "      <th></th>\n",
       "      <th></th>\n",
       "      <th></th>\n",
       "      <th></th>\n",
       "    </tr>\n",
       "  </thead>\n",
       "  <tbody>\n",
       "    <tr>\n",
       "      <th>RandomForestClassifier_V2</th>\n",
       "      <td>{'bootstrap': True, 'ccp_alpha': 0.0, 'class_w...</td>\n",
       "      <td>0.912459</td>\n",
       "      <td>0.841847</td>\n",
       "      <td>0.0429324</td>\n",
       "      <td>0.472172</td>\n",
       "    </tr>\n",
       "    <tr>\n",
       "      <th>XGBClassifier_V1</th>\n",
       "      <td>{'base_score': 0.5, 'booster': 'gbtree', 'cols...</td>\n",
       "      <td>0.881034</td>\n",
       "      <td>0.840676</td>\n",
       "      <td>0.0379264</td>\n",
       "      <td>1.21056</td>\n",
       "    </tr>\n",
       "    <tr>\n",
       "      <th>GradientBoostingClassifier_V1</th>\n",
       "      <td>{'ccp_alpha': 0.0, 'criterion': 'friedman_mse'...</td>\n",
       "      <td>0.899195</td>\n",
       "      <td>0.838393</td>\n",
       "      <td>0.0408512</td>\n",
       "      <td>0.1635</td>\n",
       "    </tr>\n",
       "    <tr>\n",
       "      <th>SVC_V1</th>\n",
       "      <td>{'C': 1.0, 'break_ties': False, 'cache_size': ...</td>\n",
       "      <td>0.849097</td>\n",
       "      <td>0.836156</td>\n",
       "      <td>0.0324527</td>\n",
       "      <td>0.194833</td>\n",
       "    </tr>\n",
       "    <tr>\n",
       "      <th>GaussianProcessClassifier_V1</th>\n",
       "      <td>{'copy_X_train': True, 'kernel': None, 'max_it...</td>\n",
       "      <td>0.865933</td>\n",
       "      <td>0.833934</td>\n",
       "      <td>0.0285744</td>\n",
       "      <td>1.11907</td>\n",
       "    </tr>\n",
       "    <tr>\n",
       "      <th>KNeighborsClassifier_V2</th>\n",
       "      <td>{'algorithm': 'auto', 'leaf_size': 30, 'metric...</td>\n",
       "      <td>0.860321</td>\n",
       "      <td>0.830631</td>\n",
       "      <td>0.029723</td>\n",
       "      <td>0.004417</td>\n",
       "    </tr>\n",
       "    <tr>\n",
       "      <th>BaggingClassifier_V1</th>\n",
       "      <td>{'base_estimator': None, 'bootstrap': True, 'b...</td>\n",
       "      <td>0.969595</td>\n",
       "      <td>0.830571</td>\n",
       "      <td>0.0245415</td>\n",
       "      <td>0.0412476</td>\n",
       "    </tr>\n",
       "    <tr>\n",
       "      <th>KNeighborsClassifier_V1</th>\n",
       "      <td>{'algorithm': 'auto', 'leaf_size': 30, 'metric...</td>\n",
       "      <td>0.869094</td>\n",
       "      <td>0.830571</td>\n",
       "      <td>0.0182095</td>\n",
       "      <td>0.0041669</td>\n",
       "    </tr>\n",
       "    <tr>\n",
       "      <th>DecisionTreeClassifier_V2</th>\n",
       "      <td>{'ccp_alpha': 0.0, 'class_weight': None, 'crit...</td>\n",
       "      <td>0.84226</td>\n",
       "      <td>0.828288</td>\n",
       "      <td>0.0357544</td>\n",
       "      <td>0.00325038</td>\n",
       "    </tr>\n",
       "    <tr>\n",
       "      <th>NuSVC_V1</th>\n",
       "      <td>{'break_ties': False, 'cache_size': 200, 'clas...</td>\n",
       "      <td>0.832365</td>\n",
       "      <td>0.826051</td>\n",
       "      <td>0.0349832</td>\n",
       "      <td>0.234679</td>\n",
       "    </tr>\n",
       "    <tr>\n",
       "      <th>RandomForestClassifier_V1</th>\n",
       "      <td>{'bootstrap': True, 'ccp_alpha': 0.0, 'class_w...</td>\n",
       "      <td>0.988165</td>\n",
       "      <td>0.821637</td>\n",
       "      <td>0.0359381</td>\n",
       "      <td>0.278886</td>\n",
       "    </tr>\n",
       "    <tr>\n",
       "      <th>AdaBoostClassifier_V1</th>\n",
       "      <td>{'algorithm': 'SAMME.R', 'base_estimator': Non...</td>\n",
       "      <td>0.846341</td>\n",
       "      <td>0.817087</td>\n",
       "      <td>0.0344562</td>\n",
       "      <td>0.163669</td>\n",
       "    </tr>\n",
       "    <tr>\n",
       "      <th>DecisionTreeClassifier_V1</th>\n",
       "      <td>{'ccp_alpha': 0.0, 'class_weight': None, 'crit...</td>\n",
       "      <td>0.988165</td>\n",
       "      <td>0.814925</td>\n",
       "      <td>0.0350438</td>\n",
       "      <td>0.00399965</td>\n",
       "    </tr>\n",
       "    <tr>\n",
       "      <th>LinearSVC_V1</th>\n",
       "      <td>{'C': 1.0, 'class_weight': None, 'dual': True,...</td>\n",
       "      <td>0.816244</td>\n",
       "      <td>0.814835</td>\n",
       "      <td>0.028544</td>\n",
       "      <td>0.0431683</td>\n",
       "    </tr>\n",
       "    <tr>\n",
       "      <th>RidgeClassifierCV_V1</th>\n",
       "      <td>{'alphas': array([ 0.1,  1. , 10. ]), 'class_w...</td>\n",
       "      <td>0.813897</td>\n",
       "      <td>0.813724</td>\n",
       "      <td>0.0332142</td>\n",
       "      <td>0.00574994</td>\n",
       "    </tr>\n",
       "    <tr>\n",
       "      <th>LogisticRegressionCV_V1</th>\n",
       "      <td>{'Cs': 10, 'class_weight': None, 'cv': None, '...</td>\n",
       "      <td>0.820733</td>\n",
       "      <td>0.813709</td>\n",
       "      <td>0.0261531</td>\n",
       "      <td>0.234167</td>\n",
       "    </tr>\n",
       "    <tr>\n",
       "      <th>LinearDiscriminantAnalysis_V1</th>\n",
       "      <td>{'covariance_estimator': None, 'n_components':...</td>\n",
       "      <td>0.814815</td>\n",
       "      <td>0.813709</td>\n",
       "      <td>0.0304544</td>\n",
       "      <td>0.00460446</td>\n",
       "    </tr>\n",
       "    <tr>\n",
       "      <th>QuadraticDiscriminantAnalysis_V1</th>\n",
       "      <td>{'priors': None, 'reg_param': 0.0, 'store_cova...</td>\n",
       "      <td>0.816142</td>\n",
       "      <td>0.80479</td>\n",
       "      <td>0.0322823</td>\n",
       "      <td>0.00241657</td>\n",
       "    </tr>\n",
       "    <tr>\n",
       "      <th>ExtraTreesClassifier_V1</th>\n",
       "      <td>{'bootstrap': False, 'ccp_alpha': 0.0, 'class_...</td>\n",
       "      <td>0.988165</td>\n",
       "      <td>0.801502</td>\n",
       "      <td>0.0451484</td>\n",
       "      <td>0.243167</td>\n",
       "    </tr>\n",
       "    <tr>\n",
       "      <th>GaussianNB_V1</th>\n",
       "      <td>{'priors': None, 'var_smoothing': 1e-09}</td>\n",
       "      <td>0.798797</td>\n",
       "      <td>0.7947</td>\n",
       "      <td>0.0279708</td>\n",
       "      <td>0.00258336</td>\n",
       "    </tr>\n",
       "    <tr>\n",
       "      <th>ExtraTreeClassifier_V1</th>\n",
       "      <td>{'ccp_alpha': 0.0, 'class_weight': None, 'crit...</td>\n",
       "      <td>0.988165</td>\n",
       "      <td>0.784655</td>\n",
       "      <td>0.0431295</td>\n",
       "      <td>0.00306278</td>\n",
       "    </tr>\n",
       "    <tr>\n",
       "      <th>BernoulliNB_V1</th>\n",
       "      <td>{'alpha': 1.0, 'binarize': 0.0, 'class_prior':...</td>\n",
       "      <td>0.784307</td>\n",
       "      <td>0.78006</td>\n",
       "      <td>0.0320222</td>\n",
       "      <td>0.00299954</td>\n",
       "    </tr>\n",
       "    <tr>\n",
       "      <th>SGDClassifier_V1</th>\n",
       "      <td>{'alpha': 0.0001, 'average': False, 'class_wei...</td>\n",
       "      <td>0.796751</td>\n",
       "      <td>0.777883</td>\n",
       "      <td>0.0464632</td>\n",
       "      <td>0.00525361</td>\n",
       "    </tr>\n",
       "    <tr>\n",
       "      <th>Perceptron_V1</th>\n",
       "      <td>{'alpha': 0.0001, 'class_weight': None, 'early...</td>\n",
       "      <td>0.687965</td>\n",
       "      <td>0.697297</td>\n",
       "      <td>0.0951551</td>\n",
       "      <td>0.00375052</td>\n",
       "    </tr>\n",
       "    <tr>\n",
       "      <th>PassiveAggressiveClassifier_V1</th>\n",
       "      <td>{'C': 1.0, 'average': False, 'class_weight': N...</td>\n",
       "      <td>0.682852</td>\n",
       "      <td>0.676246</td>\n",
       "      <td>0.154717</td>\n",
       "      <td>0.00449969</td>\n",
       "    </tr>\n",
       "  </tbody>\n",
       "</table>\n",
       "</div>"
      ],
      "text/plain": [
       "                                                                         Parameters  \\\n",
       "Model                                                                                 \n",
       "RandomForestClassifier_V2         {'bootstrap': True, 'ccp_alpha': 0.0, 'class_w...   \n",
       "XGBClassifier_V1                  {'base_score': 0.5, 'booster': 'gbtree', 'cols...   \n",
       "GradientBoostingClassifier_V1     {'ccp_alpha': 0.0, 'criterion': 'friedman_mse'...   \n",
       "SVC_V1                            {'C': 1.0, 'break_ties': False, 'cache_size': ...   \n",
       "GaussianProcessClassifier_V1      {'copy_X_train': True, 'kernel': None, 'max_it...   \n",
       "KNeighborsClassifier_V2           {'algorithm': 'auto', 'leaf_size': 30, 'metric...   \n",
       "BaggingClassifier_V1              {'base_estimator': None, 'bootstrap': True, 'b...   \n",
       "KNeighborsClassifier_V1           {'algorithm': 'auto', 'leaf_size': 30, 'metric...   \n",
       "DecisionTreeClassifier_V2         {'ccp_alpha': 0.0, 'class_weight': None, 'crit...   \n",
       "NuSVC_V1                          {'break_ties': False, 'cache_size': 200, 'clas...   \n",
       "RandomForestClassifier_V1         {'bootstrap': True, 'ccp_alpha': 0.0, 'class_w...   \n",
       "AdaBoostClassifier_V1             {'algorithm': 'SAMME.R', 'base_estimator': Non...   \n",
       "DecisionTreeClassifier_V1         {'ccp_alpha': 0.0, 'class_weight': None, 'crit...   \n",
       "LinearSVC_V1                      {'C': 1.0, 'class_weight': None, 'dual': True,...   \n",
       "RidgeClassifierCV_V1              {'alphas': array([ 0.1,  1. , 10. ]), 'class_w...   \n",
       "LogisticRegressionCV_V1           {'Cs': 10, 'class_weight': None, 'cv': None, '...   \n",
       "LinearDiscriminantAnalysis_V1     {'covariance_estimator': None, 'n_components':...   \n",
       "QuadraticDiscriminantAnalysis_V1  {'priors': None, 'reg_param': 0.0, 'store_cova...   \n",
       "ExtraTreesClassifier_V1           {'bootstrap': False, 'ccp_alpha': 0.0, 'class_...   \n",
       "GaussianNB_V1                              {'priors': None, 'var_smoothing': 1e-09}   \n",
       "ExtraTreeClassifier_V1            {'ccp_alpha': 0.0, 'class_weight': None, 'crit...   \n",
       "BernoulliNB_V1                    {'alpha': 1.0, 'binarize': 0.0, 'class_prior':...   \n",
       "SGDClassifier_V1                  {'alpha': 0.0001, 'average': False, 'class_wei...   \n",
       "Perceptron_V1                     {'alpha': 0.0001, 'class_weight': None, 'early...   \n",
       "PassiveAggressiveClassifier_V1    {'C': 1.0, 'average': False, 'class_weight': N...   \n",
       "\n",
       "                                 Train Accuracy Mean Test Accuracy Mean  \\\n",
       "Model                                                                     \n",
       "RandomForestClassifier_V2                   0.912459           0.841847   \n",
       "XGBClassifier_V1                            0.881034           0.840676   \n",
       "GradientBoostingClassifier_V1               0.899195           0.838393   \n",
       "SVC_V1                                      0.849097           0.836156   \n",
       "GaussianProcessClassifier_V1                0.865933           0.833934   \n",
       "KNeighborsClassifier_V2                     0.860321           0.830631   \n",
       "BaggingClassifier_V1                        0.969595           0.830571   \n",
       "KNeighborsClassifier_V1                     0.869094           0.830571   \n",
       "DecisionTreeClassifier_V2                    0.84226           0.828288   \n",
       "NuSVC_V1                                    0.832365           0.826051   \n",
       "RandomForestClassifier_V1                   0.988165           0.821637   \n",
       "AdaBoostClassifier_V1                       0.846341           0.817087   \n",
       "DecisionTreeClassifier_V1                   0.988165           0.814925   \n",
       "LinearSVC_V1                                0.816244           0.814835   \n",
       "RidgeClassifierCV_V1                        0.813897           0.813724   \n",
       "LogisticRegressionCV_V1                     0.820733           0.813709   \n",
       "LinearDiscriminantAnalysis_V1               0.814815           0.813709   \n",
       "QuadraticDiscriminantAnalysis_V1            0.816142            0.80479   \n",
       "ExtraTreesClassifier_V1                     0.988165           0.801502   \n",
       "GaussianNB_V1                               0.798797             0.7947   \n",
       "ExtraTreeClassifier_V1                      0.988165           0.784655   \n",
       "BernoulliNB_V1                              0.784307            0.78006   \n",
       "SGDClassifier_V1                            0.796751           0.777883   \n",
       "Perceptron_V1                               0.687965           0.697297   \n",
       "PassiveAggressiveClassifier_V1              0.682852           0.676246   \n",
       "\n",
       "                                   Test Std        Time  \n",
       "Model                                                    \n",
       "RandomForestClassifier_V2         0.0429324    0.472172  \n",
       "XGBClassifier_V1                  0.0379264     1.21056  \n",
       "GradientBoostingClassifier_V1     0.0408512      0.1635  \n",
       "SVC_V1                            0.0324527    0.194833  \n",
       "GaussianProcessClassifier_V1      0.0285744     1.11907  \n",
       "KNeighborsClassifier_V2            0.029723    0.004417  \n",
       "BaggingClassifier_V1              0.0245415   0.0412476  \n",
       "KNeighborsClassifier_V1           0.0182095   0.0041669  \n",
       "DecisionTreeClassifier_V2         0.0357544  0.00325038  \n",
       "NuSVC_V1                          0.0349832    0.234679  \n",
       "RandomForestClassifier_V1         0.0359381    0.278886  \n",
       "AdaBoostClassifier_V1             0.0344562    0.163669  \n",
       "DecisionTreeClassifier_V1         0.0350438  0.00399965  \n",
       "LinearSVC_V1                       0.028544   0.0431683  \n",
       "RidgeClassifierCV_V1              0.0332142  0.00574994  \n",
       "LogisticRegressionCV_V1           0.0261531    0.234167  \n",
       "LinearDiscriminantAnalysis_V1     0.0304544  0.00460446  \n",
       "QuadraticDiscriminantAnalysis_V1  0.0322823  0.00241657  \n",
       "ExtraTreesClassifier_V1           0.0451484    0.243167  \n",
       "GaussianNB_V1                     0.0279708  0.00258336  \n",
       "ExtraTreeClassifier_V1            0.0431295  0.00306278  \n",
       "BernoulliNB_V1                    0.0320222  0.00299954  \n",
       "SGDClassifier_V1                  0.0464632  0.00525361  \n",
       "Perceptron_V1                     0.0951551  0.00375052  \n",
       "PassiveAggressiveClassifier_V1     0.154717  0.00449969  "
      ]
     },
     "execution_count": 61,
     "metadata": {},
     "output_type": "execute_result"
    }
   ],
   "source": [
    "df_scores.sort_values('Test Accuracy Mean', ascending=False, inplace=True)\n",
    "df_scores.to_csv('model_scores.csv', index=True)\n",
    "df_scores"
   ]
  },
  {
   "cell_type": "markdown",
   "metadata": {},
   "source": [
    "# Submission"
   ]
  },
  {
   "cell_type": "code",
   "execution_count": 62,
   "metadata": {},
   "outputs": [],
   "source": [
    "clf = RandomForestClassifier(**{'max_depth': 8, 'n_estimators': 100}, random_state=SEED)\n",
    "clf.fit(X_train, y_train)\n",
    "preds = clf.predict(df_test)"
   ]
  },
  {
   "cell_type": "code",
   "execution_count": 64,
   "metadata": {},
   "outputs": [],
   "source": [
    "sub = pd.DataFrame()\n",
    "sub['PassengerId'] = test_id\n",
    "sub[TARGET] = preds\n",
    "sub.to_csv(\"submission.csv\", index=False)"
   ]
  },
  {
   "cell_type": "code",
   "execution_count": null,
   "metadata": {},
   "outputs": [],
   "source": []
  }
 ],
 "metadata": {
  "kernelspec": {
   "display_name": "Python 3",
   "language": "python",
   "name": "python3"
  },
  "language_info": {
   "codemirror_mode": {
    "name": "ipython",
    "version": 3
   },
   "file_extension": ".py",
   "mimetype": "text/x-python",
   "name": "python",
   "nbconvert_exporter": "python",
   "pygments_lexer": "ipython3",
   "version": "3.7.7"
  }
 },
 "nbformat": 4,
 "nbformat_minor": 4
}
